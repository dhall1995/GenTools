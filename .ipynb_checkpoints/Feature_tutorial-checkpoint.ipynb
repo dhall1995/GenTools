{
 "cells": [
  {
   "cell_type": "markdown",
   "metadata": {},
   "source": [
    "# Feature Tutorial\n",
    "\n",
    "Besides datatracks, another aspect of chromatin/genome/structural biology which is routinely needed to be investigated are features. This can be in an extremely broad sense but to a first approximation a genome feature is just a named region of the genome which doesn't change. This is distinct from datatracks which define some function over genomic regions (see the Datatrack tutorial). \n",
    "\n",
    "Ofcourse, we could just encode features as numpy arrays on some chromosome:"
   ]
  },
  {
   "cell_type": "code",
   "execution_count": 1,
   "metadata": {},
   "outputs": [
    {
     "name": "stdout",
     "output_type": "stream",
     "text": [
      "('4', array([10, 20]))\n"
     ]
    }
   ],
   "source": [
    "import numpy as np\n",
    "myregion = np.array([10,20])\n",
    "mychrom = '4'\n",
    "\n",
    "myfeature = (mychrom, myregion)\n",
    "print(myfeature)"
   ]
  },
  {
   "cell_type": "markdown",
   "metadata": {},
   "source": [
    "However, this isn't the most flexible and when we scale to large numbers of features it may not even be so descriptive or useful. Firstly, we often need a way to link features together. For example:\n",
    "- A given gene may be associated with a given promoter. \n",
    "- A topologically associated domain (TAD) may contain multiple promoters within it\n",
    "\n",
    "Secondly, features may have condition-specific attributes which we might want to assign to them (while still having access to the same condition-independent feature). For example:\n",
    "\n",
    "- A promoter might have active marks in naive mESCs but bivalent marks in primed mESCs\n",
    "- A TAD may be within the A compartment in naive mESCs but move to the B compartment in primed mESCs\n",
    "\n",
    "Finally, we may want to keep track of datatracks within specific classes of features. For example:\n",
    "\n",
    "- We may want to know average rates of DNA methylation at active vs. bivalent promoters in naive mESCs\n",
    "\n",
    "In order to do all of these things, we'll make use of the Datatrack classes and the Feature classes. A bit of work will be needed to create our feature classes but once done it will provide some flexible analysis tools."
   ]
  },
  {
   "cell_type": "markdown",
   "metadata": {},
   "source": [
    "## Modules"
   ]
  },
  {
   "cell_type": "code",
   "execution_count": 2,
   "metadata": {},
   "outputs": [],
   "source": [
    "from GenTools.tools import Feature as F\n",
    "from GenTools.tools import Datatrack as Dt\n",
    "from GenTools.utils import dtrack_utils as dtu\n",
    "\n",
    "import pandas as pd\n",
    "import numpy as np"
   ]
  },
  {
   "cell_type": "markdown",
   "metadata": {},
   "source": [
    "## The Feature Class\n",
    "The main class which i'll use to encode general features is the Feature class. At it's base, all a feature needs is a type and a unique ID which allows us to keep track of that feature:"
   ]
  },
  {
   "cell_type": "code",
   "execution_count": 3,
   "metadata": {},
   "outputs": [
    {
     "name": "stdout",
     "output_type": "stream",
     "text": [
      "Thisi is a feature of type:\ttype1\n",
      "and with ID:\ttype1_UID1\n"
     ]
    }
   ],
   "source": [
    "myfeat1 = F.Feature('type1', 'type1_UID1')\n",
    "\n",
    "print(\"Thisi is a feature of type:\\t{}\\nand with ID:\\t{}\".format(myfeat1.type, myfeat1.id))"
   ]
  },
  {
   "cell_type": "markdown",
   "metadata": {},
   "source": [
    "### Feature Attributes\n",
    "One optional input when we construct our feature is attrs (attributes). Essentially this is extra info beyond the feature ID and the feature type which we might want to associate with the feature. Let's add a 'chromosome' attribute to our feature myfeat1:"
   ]
  },
  {
   "cell_type": "code",
   "execution_count": 4,
   "metadata": {},
   "outputs": [
    {
     "name": "stdout",
     "output_type": "stream",
     "text": [
      "{'chromosome': '1'}\n"
     ]
    }
   ],
   "source": [
    "myfeat1.attrs['chromosome'] = '1'\n",
    "\n",
    "print(myfeat1.attrs)"
   ]
  },
  {
   "cell_type": "markdown",
   "metadata": {},
   "source": [
    "Feature attributes can really be anything:"
   ]
  },
  {
   "cell_type": "code",
   "execution_count": 5,
   "metadata": {},
   "outputs": [
    {
     "name": "stdout",
     "output_type": "stream",
     "text": [
      "{'chromosome': '1', 'region': array([[10, 20]], dtype=int32)}\n"
     ]
    }
   ],
   "source": [
    "myfeat1.attrs['region'] = np.array([[10,20]]).astype('int32')\n",
    "print(myfeat1.attrs)"
   ]
  },
  {
   "cell_type": "markdown",
   "metadata": {},
   "source": [
    "### Feature Children\n",
    "Features can also have children:"
   ]
  },
  {
   "cell_type": "code",
   "execution_count": 6,
   "metadata": {},
   "outputs": [],
   "source": [
    "#Lets make a second feature of type 2\n",
    "myfeat2 = F.Feature('type2',\n",
    "                    'type2_UID1',\n",
    "                    attrs = {'chromosome': '1',\n",
    "                             'region': np.array([[11, 13]]).astype('int32')\n",
    "                            }\n",
    "                   )\n",
    "\n",
    "\n",
    "#Now let's add it to our first feature as a child\n",
    "myfeat1.add_child(myfeat2, #The child feature we want to add\n",
    "                  'type2' #The type of child feature we're adding\n",
    "                 )"
   ]
  },
  {
   "cell_type": "markdown",
   "metadata": {},
   "source": [
    "The children of myfeat1 are stored in a dictionary in myfeat1.children. In particular, since we have specified our child type as 'type2', myfeat2 will appear in myfeat1.children['type2']:"
   ]
  },
  {
   "cell_type": "code",
   "execution_count": 7,
   "metadata": {},
   "outputs": [
    {
     "name": "stdout",
     "output_type": "stream",
     "text": [
      "Children of type1_UID1:\n",
      "{'type2': [<GenTools.tools.Feature.Feature object at 0x7f5705374690>]}\n",
      "Attributes of type2_UID1\n",
      "{'chromosome': '1', 'region': array([[11, 13]], dtype=int32)}\n"
     ]
    }
   ],
   "source": [
    "print(\"Children of {}:\".format(myfeat1.id))\n",
    "print(myfeat1.children)\n",
    "\n",
    "#We can also access the attributes of children\n",
    "print(\"Attributes of {}\".format(myfeat1.children['type2'][0].id))\n",
    "print(myfeat1.children['type2'][0].attrs)"
   ]
  },
  {
   "cell_type": "markdown",
   "metadata": {},
   "source": [
    "Note that at the moment there is nothing stopping the same feature from being added twice:"
   ]
  },
  {
   "cell_type": "code",
   "execution_count": 8,
   "metadata": {},
   "outputs": [
    {
     "name": "stdout",
     "output_type": "stream",
     "text": [
      "{'type2': [<GenTools.tools.Feature.Feature object at 0x7f5705374690>, <GenTools.tools.Feature.Feature object at 0x7f5705374690>]}\n"
     ]
    }
   ],
   "source": [
    "#Now let's add it to our first feature as a child\n",
    "myfeat1.add_child(myfeat2, #The child feature we want to add\n",
    "                  'type2' #The type of child feature we're adding\n",
    "                 )\n",
    "\n",
    "print(myfeat1.children)"
   ]
  },
  {
   "cell_type": "markdown",
   "metadata": {},
   "source": [
    "However, since we have added the same feature (myfeat2) twice, note that the location of each item in the list myfeat1.children['type2'] is the same i.e. they're the same object. \n",
    "\n",
    "Let's see what happens if we add an attribute to our myfeat2:"
   ]
  },
  {
   "cell_type": "code",
   "execution_count": 9,
   "metadata": {},
   "outputs": [
    {
     "name": "stdout",
     "output_type": "stream",
     "text": [
      "Before editing the region the attributes of type2_UID1 are:\n",
      "{'chromosome': '1', 'region': array([[11, 13]], dtype=int32)}\n",
      "\n",
      "\n",
      "###################################################\n",
      "After editing the region of the attributes of type2_UID1, accessing the attrs via type2_UID1 we get:\n",
      "{'chromosome': '1', 'region': array([[11, 17]], dtype=int32)}\n",
      "\n",
      "\n",
      "###################################################\n",
      "After editing the region of the attributes of type2_UID1, accessing the attrs via type1_UID1 we get:\n",
      "Child type2 number 0:\n",
      "{'chromosome': '1', 'region': array([[11, 17]], dtype=int32)}\n",
      "Child type2 number 1:\n",
      "{'chromosome': '1', 'region': array([[11, 17]], dtype=int32)}\n"
     ]
    }
   ],
   "source": [
    "print(\"Before editing the region the attributes of {} are:\".format(myfeat2.id))\n",
    "print(myfeat2.attrs)\n",
    "print(\"\\n\")\n",
    "print(\"###################################################\")\n",
    "#Changing the region of myfeat2 to be longer\n",
    "myfeat2.attrs['region'][0,1] = 17\n",
    "\n",
    "print(\"After editing the region of the attributes of {}, accessing the attrs via {} we get:\".format(myfeat2.id, myfeat2.id))\n",
    "print(myfeat2.attrs)\n",
    "print(\"\\n\")\n",
    "print(\"###################################################\")\n",
    "\n",
    "print(\"After editing the region of the attributes of {}, accessing the attrs via {} we get:\".format(myfeat2.id, myfeat1.id))\n",
    "print(\"Child type2 number 0:\")\n",
    "print(myfeat1.children['type2'][0].attrs)\n",
    "print(\"Child type2 number 1:\")\n",
    "print(myfeat1.children['type2'][1].attrs)"
   ]
  },
  {
   "cell_type": "markdown",
   "metadata": {},
   "source": [
    "Because the two added children (both myfeat2) are actually the same object, when we edit that object, the same edits are applied to the children within myfeat1. \n",
    "\n",
    "Finally, the input 'type2' into the add_child method is not entirely necessary since it can be inferred from myfeat2:"
   ]
  },
  {
   "cell_type": "code",
   "execution_count": 10,
   "metadata": {},
   "outputs": [
    {
     "name": "stdout",
     "output_type": "stream",
     "text": [
      "{'type2': [<GenTools.tools.Feature.Feature object at 0x7f577c136b10>]}\n"
     ]
    }
   ],
   "source": [
    "myfeat1 = F.Feature('type1', 'type1_UID1')\n",
    "myfeat2 = F.Feature('type2', 'type2_UID1')\n",
    "myfeat1.add_child(myfeat2)\n",
    "\n",
    "print(myfeat1.children)"
   ]
  },
  {
   "cell_type": "markdown",
   "metadata": {},
   "source": [
    "However, we may want to group children of the same type when we add children to our features. Therefore we can specify the child type:"
   ]
  },
  {
   "cell_type": "code",
   "execution_count": 11,
   "metadata": {},
   "outputs": [
    {
     "name": "stdout",
     "output_type": "stream",
     "text": [
      "{'type2a': [<GenTools.tools.Feature.Feature object at 0x7f5705374c90>], 'type2b': [<GenTools.tools.Feature.Feature object at 0x7f577c136ad0>]}\n"
     ]
    }
   ],
   "source": [
    "myfeat1 = F.Feature('type1', 'type1_UID1')\n",
    "myfeat2 = F.Feature('type2', 'type2_UID1')\n",
    "myfeat3 = F.Feature('type2', 'type2_UID2') #Third feature of the same type as myfeat2 but with a different UID\n",
    "myfeat1.add_child(myfeat2, 'type2a')\n",
    "myfeat1.add_child(myfeat3, 'type2b')\n",
    "\n",
    "print(myfeat1.children)"
   ]
  },
  {
   "cell_type": "markdown",
   "metadata": {},
   "source": [
    "### Feature Parents\n",
    "Features can also have parents. These work just the same as children:"
   ]
  },
  {
   "cell_type": "code",
   "execution_count": 15,
   "metadata": {},
   "outputs": [
    {
     "name": "stdout",
     "output_type": "stream",
     "text": [
      "Child information for type1_UID1:\n",
      "type2_UID1\n",
      "type2\n",
      "{}\n",
      "\n",
      "\n",
      "Parent information for type2_UID1:\n",
      "type1_UID1\n",
      "type1\n",
      "{}\n"
     ]
    }
   ],
   "source": [
    "myfeat1 = F.Feature('type1', 'type1_UID1')\n",
    "myfeat2 = F.Feature('type2', 'type2_UID1')\n",
    "myfeat1.add_child(myfeat2)\n",
    "myfeat2.add_parent(myfeat1)\n",
    "\n",
    "print(\"Child information for {}:\".format(myfeat1.id))\n",
    "print(myfeat1.children['type2'][0].id)\n",
    "print(myfeat1.children['type2'][0].type)\n",
    "print(myfeat1.children['type2'][0].attrs)\n",
    "print(\"\\n\")\n",
    "print(\"Parent information for {}:\".format(myfeat2.id))\n",
    "print(myfeat2.parents['type1'][0].id)\n",
    "print(myfeat2.parents['type1'][0].type)\n",
    "print(myfeat2.parents['type1'][0].attrs)"
   ]
  },
  {
   "cell_type": "markdown",
   "metadata": {},
   "source": [
    "## Single Condition Features\n",
    "Sometimes we might want to associate a feature with a single condition and for this there is the Feature_single_condition class. The only difference between this and the standard Feature class is that the initialisation of one of these objects requires that a condition be specified. For example we might specify a TAD which seems to be unique to the naive mESC timepoint:"
   ]
  },
  {
   "cell_type": "code",
   "execution_count": 18,
   "metadata": {},
   "outputs": [
    {
     "name": "stdout",
     "output_type": "stream",
     "text": [
      "tad\n",
      "tad_UID1\n",
      "naive\n",
      "2\n",
      "[[10 20]]\n"
     ]
    }
   ],
   "source": [
    "mESC_TAD = F.Feature_single_condition('tad',       #Feature type\n",
    "                                      'tad_UID1',  #Feature UID\n",
    "                                      'naive',      #Condition\n",
    "                                      attrs = {'region': np.array([[10,20]]).astype('int32'),\n",
    "                                               'chromosome': '2'\n",
    "                                              }\n",
    "                                     )\n",
    "print(mESC_TAD.type)\n",
    "print(mESC_TAD.id)\n",
    "print(mESC_TAD.attrs['condition'])\n",
    "print(mESC_TAD.attrs['chromosome'])\n",
    "print(mESC_TAD.attrs['region'])"
   ]
  },
  {
   "cell_type": "markdown",
   "metadata": {},
   "source": [
    "## Single Cell Features\n",
    "As a subclass of single-condition features sometimes we might want to associate a feature with a single cell and for this there is the Feature_single_cell class. The only difference between this and the Feature_single_condition class is that the initialisation of one of these objects requires that a cell identifier be specified. For example we might specify a loop which seems to be unique to a single cell in the naive mESC timepoint:"
   ]
  },
  {
   "cell_type": "code",
   "execution_count": 19,
   "metadata": {},
   "outputs": [
    {
     "name": "stdout",
     "output_type": "stream",
     "text": [
      "loop\n",
      "loop_UID1\n",
      "naive\n",
      "2\n",
      "[[10 20]\n",
      " [50 60]]\n"
     ]
    }
   ],
   "source": [
    "mESC_loop = F.Feature_single_cell('loop',      #Feature type\n",
    "                                 'loop_UID1',  #Feature UID\n",
    "                                 'cell_1',     #Cell ID\n",
    "                                 'naive',      #Condition\n",
    "                                 attrs = {'contacts': np.array([[10,20],[50,60]]).astype('int32'),\n",
    "                                          'chromosome': '2'\n",
    "                                              }\n",
    "                                )\n",
    "print(mESC_loop.type)\n",
    "print(mESC_loop.id)\n",
    "print(mESC_loop.attrs['condition'])\n",
    "print(mESC_loop.attrs['chromosome'])\n",
    "print(mESC_loop.attrs['contacts'])"
   ]
  },
  {
   "cell_type": "code",
   "execution_count": null,
   "metadata": {},
   "outputs": [],
   "source": []
  }
 ],
 "metadata": {
  "kernelspec": {
   "display_name": "Python 3",
   "language": "python",
   "name": "python3"
  },
  "language_info": {
   "codemirror_mode": {
    "name": "ipython",
    "version": 3
   },
   "file_extension": ".py",
   "mimetype": "text/x-python",
   "name": "python",
   "nbconvert_exporter": "python",
   "pygments_lexer": "ipython3",
   "version": "3.7.6"
  }
 },
 "nbformat": 4,
 "nbformat_minor": 4
}
