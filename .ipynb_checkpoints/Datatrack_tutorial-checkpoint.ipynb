{
 "cells": [
  {
   "cell_type": "markdown",
   "metadata": {},
   "source": [
    "# Datatrack.py Tutorial\n",
    "Datatracks are the bread and butter of a great deal of research computational biology. After much of the preprocessing of experimental sequencing data we are usually left with a file which in some way details how some measurement of interest varies across the genome. The simplest way of thinking about a datatrack is just as a function which can take real values. If we let $\\mathbf{C}$ be the set of chromosomes then we might define a datatrack as a function:\n",
    "\n",
    "\n",
    "\\begin{equation}\n",
    "    f: \\mathbb{N}_{+}\\times\\mathbf{C} \\to \\mathbb{R}\n",
    "\\end{equation}\n",
    "\n",
    "Where we input a positive integer and chromosome and we get a real value. This value could, for example, tell us about the strength of binding of a given protein to a given basepair. Or it could be the number of reads which we observe at that basepair.\n",
    "\n",
    "### The DataTrack Class\n",
    "Simple and quick manipulation of the functions which we come across for various ChIPseq datasets (or, for example, DNA methylation dataset datasets) vastly increases the speed at which different hypotheses can be tested. Being able to keep track of variables also greatly reduces mental load! The Datatrack class is a quick way to load up data from standard data sources and interrogate them to find out properties of the underlying functions which they represent. \n",
    "\n",
    "### dtrack_utils\n",
    "The Datatrack class makes heavy use of a cython module I have written called dtrack_utils. Mastering this module will allow users to implement much more complicated things than I have implemented thus far within the dataset. However, my hope is that the datatrack class will prove useful as-is for a lot of analysis. It's been implemented in cython so that many of the most common tasks such as overlapping two datatracks or collecting statistics on some group of regions can be done faster than would be possible in python!\n"
   ]
  },
  {
   "cell_type": "markdown",
   "metadata": {},
   "source": [
    "## Importing Modules"
   ]
  },
  {
   "cell_type": "code",
   "execution_count": 1,
   "metadata": {},
   "outputs": [],
   "source": [
    "#dtrack_utils Cython Module\n",
    "import utils.dtrack_utils as dtu\n",
    "#Numpy is always useful for numerical manipulation\n",
    "import numpy as np\n",
    "#Import our datatrack classes!\n",
    "import utils.Datatrack as dt"
   ]
  },
  {
   "cell_type": "markdown",
   "metadata": {},
   "source": [
    "# Region-Value Pair Datatracks\n",
    "## BED format files\n",
    "One of the most common formats for storing datatracks is in region-value-pair format. That is, on each chromosome we simple detail the regions where the function $f$ takes nonzero values and we specify the value that the function takes in that region. Below is an example of bed file created for a Nanog ChIPseq from naive embryonic stem cells:"
   ]
  },
  {
   "cell_type": "code",
   "execution_count": 3,
   "metadata": {},
   "outputs": [
    {
     "name": "stdout",
     "output_type": "stream",
     "text": [
      "chr1\t3062626\t3063246\tGSEXXXXXHendrich20161026_Nanog_ESC_peak_1\t1091\r\n",
      "chr1\t3445421\t3446366\tGSEXXXXXHendrich20161026_Nanog_ESC_peak_2\t658\r\n",
      "chr1\t3681365\t3681811\tGSEXXXXXHendrich20161026_Nanog_ESC_peak_3\t48\r\n",
      "chr1\t3947036\t3947306\tGSEXXXXXHendrich20161026_Nanog_ESC_peak_4\t55\r\n",
      "chr1\t4150783\t4151277\tGSEXXXXXHendrich20161026_Nanog_ESC_peak_5\t1017\r\n",
      "chr1\t4447859\t4448346\tGSEXXXXXHendrich20161026_Nanog_ESC_peak_6\t329\r\n",
      "chr1\t4611937\t4612228\tGSEXXXXXHendrich20161026_Nanog_ESC_peak_7\t104\r\n",
      "chr1\t4660171\t4660590\tGSEXXXXXHendrich20161026_Nanog_ESC_peak_8\t195\r\n",
      "chr1\t4802495\t4802928\tGSEXXXXXHendrich20161026_Nanog_ESC_peak_9\t424\r\n",
      "chr1\t4819456\t4819933\tGSEXXXXXHendrich20161026_Nanog_ESC_peak_10\t346\r\n"
     ]
    }
   ],
   "source": [
    "nanog_file = \"tutorial_data/GSEXXXXXHendrich20161026_Nanog_ESC_peaks.bed\"\n",
    "!head /disk1/dh486/Data/ChIPseq/0hrs/peaks_bed/GSEXXXXXHendrich20161026_Nanog_ESC_peaks.bed"
   ]
  },
  {
   "cell_type": "markdown",
   "metadata": {},
   "source": [
    "We can see that there is chromosome information in collumn zero, then a region start collumn, a region end collumn, some unique IDs for each peak and then a value collumn detailing the size of the function at each peak. Lets go ahead and load this information into a DataTrack_rvp object (the rvp stands for region-value-pairs) using the .from_bed() method:"
   ]
  },
  {
   "cell_type": "code",
   "execution_count": 3,
   "metadata": {},
   "outputs": [
    {
     "data": {
      "text/plain": [
       "<utils.Datatrack.DataTrack_rvp at 0x7f7b35d3e610>"
      ]
     },
     "execution_count": 3,
     "metadata": {},
     "output_type": "execute_result"
    }
   ],
   "source": [
    "#In order to initialise our Datatrack all we need to do is specify a name. So lets create datatrack object\n",
    "#with name nanog and save it in the variable nanog\n",
    "nanog = dt.DataTrack_rvp(\"Nanog\")\n",
    "\n",
    "#Lets now construct the datatrack from the bed file\n",
    "nanog.from_bed(nanog_file,\n",
    "               chrom_col = 0, #What collumn is our chromosome information in?\n",
    "               region_cols = (1,2), #What collumns are our region start and region end?\n",
    "               value_col = 4, #What collumns are our values in?\n",
    "               ID_col = 3) #What collumns are our region IDs in?)"
   ]
  },
  {
   "cell_type": "markdown",
   "metadata": {},
   "source": [
    "Note that we could also ignore the ID and value information and simply put all values as a constant:"
   ]
  },
  {
   "cell_type": "code",
   "execution_count": 4,
   "metadata": {},
   "outputs": [],
   "source": [
    "nanog = dt.DataTrack_rvp(\"Nanog\").from_bed(nanog_file,\n",
    "                                           chrom_col = 0, #What collumn is our chromosome information in?\n",
    "                                           region_cols = (1,2), #What collumns are our region start and region end?\n",
    "                                           value_col = None, #What collumns are our values in?\n",
    "                                           value_fill = 1,\n",
    "                                           ID_col = None)"
   ]
  },
  {
   "cell_type": "markdown",
   "metadata": {},
   "source": [
    "Now we can take a look at the data which is in our datatrack object:"
   ]
  },
  {
   "cell_type": "code",
   "execution_count": 5,
   "metadata": {},
   "outputs": [
    {
     "data": {
      "text/plain": [
       "array([[  3062626,   3063246],\n",
       "       [  3445421,   3446366],\n",
       "       [  3681365,   3681811],\n",
       "       ...,\n",
       "       [194354695, 194354978],\n",
       "       [194472371, 194472801],\n",
       "       [194890314, 194890780]], dtype=int32)"
      ]
     },
     "execution_count": 5,
     "metadata": {},
     "output_type": "execute_result"
    }
   ],
   "source": [
    "#Lets take a look at our regions first\n",
    "nanog.regions['1']"
   ]
  },
  {
   "cell_type": "code",
   "execution_count": 6,
   "metadata": {},
   "outputs": [
    {
     "data": {
      "text/plain": [
       "array([[1.],\n",
       "       [1.],\n",
       "       [1.],\n",
       "       ...,\n",
       "       [1.],\n",
       "       [1.],\n",
       "       [1.]])"
      ]
     },
     "execution_count": 6,
     "metadata": {},
     "output_type": "execute_result"
    }
   ],
   "source": [
    "#Now our values in chromosome 2\n",
    "nanog.values['2']"
   ]
  },
  {
   "cell_type": "code",
   "execution_count": 7,
   "metadata": {},
   "outputs": [
    {
     "name": "stdout",
     "output_type": "stream",
     "text": [
      "'nanog' is a datatrack of type: region-value-pairs\n",
      "It has name: Nanog\n"
     ]
    }
   ],
   "source": [
    "#We can also look at the name and type of our datatrack if we forget\n",
    "print(\"'nanog' is a datatrack of type: {}\".format(nanog.dtrack_type))\n",
    "print(\"It has name: {}\".format(nanog.name))"
   ]
  },
  {
   "cell_type": "markdown",
   "metadata": {},
   "source": [
    "## NPZ files\n",
    "You may have noticed that loading the datatrack from a BED format file isn't so quick...\n",
    "\n",
    "One quicker option is to use numpy file archives (.npz). These are saved dictionaries which contain the same region-value-pair information as would be in a bed file but are much quick to access since all information is already stored in arrays!  "
   ]
  },
  {
   "cell_type": "code",
   "execution_count": 4,
   "metadata": {},
   "outputs": [
    {
     "name": "stdout",
     "output_type": "stream",
     "text": [
      "Couldn't extract binning parameters from the file. \n"
     ]
    }
   ],
   "source": [
    "nanog_file = \"tutorial_data/GSEXXXXXHendrich20161026_Nanog_ESC_peaks.npz\"\n",
    "nanog = dt.DataTrack_rvp(\"Nanog\").from_npz(nanog_file)"
   ]
  },
  {
   "cell_type": "markdown",
   "metadata": {},
   "source": [
    "It's a lot quicker loading data from .npz files! They do run the risk of corruption though so it's good to keep BED files at hand. One thing which you may notice is the:\n",
    "\n",
    "    'Couldn't extract binning parameters from the file.'\n",
    "    \n",
    "line. This is to do with the way in which we convert .bed files into .npz files (later on i'll show how to do this). Basically, when we later come to binning a datatrack (i.e. assigning datatrack function values to a sequence of bins) it's useful to have some standard input parameters which we associate with a datatrack. These binning parameters will mean that we can, for example, bin DNA methylation differently from how we bin Nanog!\n"
   ]
  },
  {
   "cell_type": "markdown",
   "metadata": {},
   "source": [
    "## Interrogating the datatrack function\n",
    "Lets now look at functions for investigating region-value-pair functions. "
   ]
  },
  {
   "cell_type": "markdown",
   "metadata": {},
   "source": [
    "### Chromosome Limits\n",
    "One of the first things we might be interested in is what the lengths of our chromosomes actually are! The Datatrack class doesn't assume that the chromosomes have any particular length and leaves these as functions which are free to be input by the user. However, we can estimate the chromosome limits from the maximum and minimum values of the regions we observe on each chromosome:"
   ]
  },
  {
   "cell_type": "code",
   "execution_count": 6,
   "metadata": {},
   "outputs": [
    {
     "data": {
      "text/plain": [
       "{'1': [3062626, 194890780],\n",
       " '10': [3302560, 130420449],\n",
       " '11': [3145328, 121964594],\n",
       " '12': [3124034, 119777974],\n",
       " '13': [3712816, 119334473],\n",
       " '14': [7809188, 124446400],\n",
       " '15': [3748080, 103383326],\n",
       " '16': [3531957, 97936334],\n",
       " '17': [3505534, 94866952],\n",
       " '18': [3006850, 90581368],\n",
       " '19': [3532657, 61321440],\n",
       " '2': [3100032, 181773870],\n",
       " '3': [3370820, 159615381],\n",
       " '4': [3368156, 156194661],\n",
       " '5': [3293540, 151645339],\n",
       " '6': [4118617, 149357512],\n",
       " '7': [3507008, 145139802],\n",
       " '8': [3100430, 128538866],\n",
       " '9': [3376306, 123731738],\n",
       " 'X': [6279324, 169906459],\n",
       " 'Y': [4829304, 4829578]}"
      ]
     },
     "execution_count": 6,
     "metadata": {},
     "output_type": "execute_result"
    }
   ],
   "source": [
    "nanog.chrlims_from_regions()\n",
    "nanog.chr_lims"
   ]
  },
  {
   "cell_type": "markdown",
   "metadata": {},
   "source": [
    "### Datatrack function evaluation\n",
    "\n",
    "Now that we have estimated our chromosome limits let's look at interrogating our function. Looking at the function for all values in a given region is simple and just uses the .func method. We just provide a midpoint and a windowsize (or buffer) around that midpoint where we want to evaluate the function:"
   ]
  },
  {
   "cell_type": "code",
   "execution_count": 7,
   "metadata": {},
   "outputs": [
    {
     "data": {
      "text/plain": [
       "array([[   0.,    0.,    0.,    0.,    0.,    0.,    0.,    0.,    0.,\n",
       "           0.,    0.,    0.,    0.,    0.,    0.,    0.,    0.,    0.,\n",
       "           0.,    0.,    0.,    0.,    0.,    0.,    0.,    0.,    0.,\n",
       "           0.,    0.,    0.,    0.,    0.,    0.,    0.,    0.,    0.,\n",
       "           0.,    0.,    0.,    0.,    0.,    0.,    0.,    0.,    0.,\n",
       "           0.,    0.,    0.,    0.,    0.,    0.,    0.,    0.,    0.,\n",
       "           0.,    0.,    0.,    0.,    0.,    0.,    0.,    0.,    0.,\n",
       "           0.,    0.,    0.,    0.,    0.,    0.,    0.,    0.,    0.,\n",
       "           0.,    0.,    0.,    0.,    0.,    0.,    0.,    0.,    0.,\n",
       "           0.,    0.,    0.,    0.,    0.,    0.,    0.,    0.,    0.,\n",
       "           0.,    0.,    0.,    0.,    0.,    0.,    0.,    0.,    0.,\n",
       "           0.,    0.,    0.,    0.,    0.,    0.,    0.,    0.,    0.,\n",
       "           0.,    0.,    0.,    0.,    0.,    0.,    0.,    0.,    0.,\n",
       "           0.,    0.,    0.,    0.,    0.,    0.,    0.,    0.,    0.,\n",
       "           0.,    0.,    0.,    0.,    0.,    0.,    0.,    0.,    0.,\n",
       "           0.,    0.,    0.,    0.,    0., 1091., 1091., 1091., 1091.,\n",
       "        1091., 1091., 1091., 1091., 1091., 1091., 1091., 1091., 1091.,\n",
       "        1091., 1091., 1091., 1091., 1091., 1091., 1091., 1091., 1091.,\n",
       "        1091., 1091., 1091., 1091., 1091., 1091., 1091., 1091., 1091.,\n",
       "        1091., 1091., 1091., 1091., 1091., 1091., 1091., 1091., 1091.,\n",
       "        1091., 1091., 1091., 1091., 1091., 1091., 1091., 1091., 1091.,\n",
       "        1091., 1091., 1091., 1091., 1091., 1091., 1091., 1091., 1091.,\n",
       "        1091., 1091.]])"
      ]
     },
     "execution_count": 7,
     "metadata": {},
     "output_type": "execute_result"
    }
   ],
   "source": [
    "#Here is the start of a peak in our Nanog datatrack on chromosome 1\n",
    "nanog.func('1',[3062586], buffer = 100)"
   ]
  },
  {
   "cell_type": "markdown",
   "metadata": {},
   "source": [
    "Note that we can provide multiple midpoints and we'll get multiple rows in our output array:"
   ]
  },
  {
   "cell_type": "code",
   "execution_count": 8,
   "metadata": {},
   "outputs": [
    {
     "data": {
      "text/plain": [
       "array([[1091., 1091., 1091., 1091., 1091., 1091., 1091., 1091., 1091.,\n",
       "        1091., 1091., 1091., 1091., 1091., 1091., 1091., 1091., 1091.,\n",
       "        1091., 1091.],\n",
       "       [   0.,    0.,    0.,    0.,    0.,    0.,    0.,    0.,    0.,\n",
       "           0.,   89.,   89.,   89.,   89.,   89.,   89.,   89.,   89.,\n",
       "          89.,   89.]])"
      ]
     },
     "execution_count": 8,
     "metadata": {},
     "output_type": "execute_result"
    }
   ],
   "source": [
    "#Here is the start of a peak in our Nanog datatrack on chromosome 1\n",
    "nanog.func('1',[3062686,194354695], buffer = 10)"
   ]
  },
  {
   "cell_type": "markdown",
   "metadata": {},
   "source": [
    "This comes in use when we might want to evaluate a function across an entire set of genomic regions. For example active promoters:"
   ]
  },
  {
   "cell_type": "code",
   "execution_count": 9,
   "metadata": {},
   "outputs": [
    {
     "data": {
      "text/plain": [
       "array([[ 57993971,  57997971],\n",
       "       [ 11412112,  11416112],\n",
       "       [136129183, 136133183],\n",
       "       [ 91296338,  91300338],\n",
       "       [ 43443751,  43447751],\n",
       "       [193033698, 193037698],\n",
       "       [ 91364430,  91368430],\n",
       "       [ 75140786,  75144786],\n",
       "       [ 64120282,  64124282],\n",
       "       [151258914, 151262914]])"
      ]
     },
     "execution_count": 9,
     "metadata": {},
     "output_type": "execute_result"
    }
   ],
   "source": [
    "x = dict(np.load(\"tutorial_data/active_promoters.npz\"))\n",
    "x['1'][:10,:]"
   ]
  },
  {
   "cell_type": "markdown",
   "metadata": {},
   "source": [
    "These are the active promoter regions on chromosome 1 in naive ES cells. Lets look at nanog signal within +/-1kb of the active promoter centres on chromosome 1:"
   ]
  },
  {
   "cell_type": "code",
   "execution_count": 10,
   "metadata": {},
   "outputs": [
    {
     "name": "stdout",
     "output_type": "stream",
     "text": [
      "couldn't find active promoter info for chromosome Y\n"
     ]
    }
   ],
   "source": [
    "buffer = 1000\n",
    "promoter_nanog_signal = np.zeros(2*buffer)\n",
    "numproms = 0\n",
    "for chrom in nanog.chromosomes:\n",
    "    try:\n",
    "        mids = np.mean(x[chrom], axis = 1).astype('int')\n",
    "    except:\n",
    "        print(\"couldn't find active promoter info for chromosome {}\".format(chrom))\n",
    "        continue\n",
    "        \n",
    "    promoter_nanog_signal = np.sum(nanog.func(chrom, mids, buffer = buffer), axis = 0)\n",
    "    numproms += len(mids)\n",
    "\n",
    "promoter_nanog_signal /= numproms"
   ]
  },
  {
   "cell_type": "code",
   "execution_count": 11,
   "metadata": {},
   "outputs": [
    {
     "data": {
      "text/plain": [
       "Text(0.5, 1.0, 'Active promoter nanog signal\\nNaive mESCs')"
      ]
     },
     "execution_count": 11,
     "metadata": {},
     "output_type": "execute_result"
    },
    {
     "data": {
      "image/png": "[encoded data removed]",
      "text/plain": [
       "<Figure size 864x720 with 1 Axes>"
      ]
     },
     "metadata": {
      "needs_background": "light"
     },
     "output_type": "display_data"
    }
   ],
   "source": [
    "import matplotlib.pyplot as plt\n",
    "\n",
    "fig = plt.figure(figsize = (12,10))\n",
    "plot = plt.plot(np.arange(len(promoter_nanog_signal)), promoter_nanog_signal)\n",
    "xticks = plt.xticks([0,500,1000,1500,2000], [-1000, -500, 0, 500,1000])\n",
    "plt.tick_params(labelsize = 15)\n",
    "plt.ylabel(\"Average Signal\", size = 20)\n",
    "plt.xlabel(\"Distance from active promoter centre\", size = 20)\n",
    "plt.title(\"Active promoter nanog signal\\nNaive mESCs\", size = 20)"
   ]
  },
  {
   "cell_type": "markdown",
   "metadata": {},
   "source": [
    "We might also just be interested in looking at coverage over certain regions. We can therefore replace the datatrack values with constants if we want to when evaluating the function:"
   ]
  },
  {
   "cell_type": "code",
   "execution_count": 12,
   "metadata": {},
   "outputs": [
    {
     "name": "stdout",
     "output_type": "stream",
     "text": [
      "couldn't find active promoter info for chromosome Y\n"
     ]
    },
    {
     "data": {
      "text/plain": [
       "Text(0.5, 1.0, 'Chromosome 1 active promoter nanog signal\\nNaive mESCs')"
      ]
     },
     "execution_count": 12,
     "metadata": {},
     "output_type": "execute_result"
    },
    {
     "data": {
      "image/png": "[encoded data removed]",
      "text/plain": [
       "<Figure size 864x720 with 1 Axes>"
      ]
     },
     "metadata": {
      "needs_background": "light"
     },
     "output_type": "display_data"
    }
   ],
   "source": [
    "buffer = 1000\n",
    "promoter_nanog_signal = np.zeros(2*buffer)\n",
    "numproms = 0\n",
    "for chrom in nanog.chromosomes:\n",
    "    try:\n",
    "        mids = np.mean(x[chrom], axis = 1).astype('int')\n",
    "    except:\n",
    "        print(\"couldn't find active promoter info for chromosome {}\".format(chrom))\n",
    "        continue\n",
    "        \n",
    "    promoter_nanog_signal = np.sum(nanog.func(chrom, mids, buffer = buffer, use_constant_val = 1), axis = 0)\n",
    "    numproms += len(mids)\n",
    "\n",
    "promoter_nanog_signal /= numproms\n",
    "fig = plt.figure(figsize = (12,10))\n",
    "plot = plt.plot(np.arange(len(promoter_nanog_signal)), promoter_nanog_signal)\n",
    "xticks = plt.xticks([0,500,1000,1500,2000], [-1000, -500, 0, 500,1000])\n",
    "plt.tick_params(labelsize = 15)\n",
    "plt.ylabel(\"Average Coverage\", size = 20)\n",
    "plt.xlabel(\"Distance from active promoter centre\", size = 20)\n",
    "plt.title(\"Chromosome 1 active promoter nanog signal\\nNaive mESCs\", size = 20)"
   ]
  },
  {
   "cell_type": "markdown",
   "metadata": {},
   "source": [
    "### Raw data within an interval \n",
    "We might instead want to get the actual raw region-value-pair information which overlaps with a region:"
   ]
  },
  {
   "cell_type": "code",
   "execution_count": 13,
   "metadata": {},
   "outputs": [
    {
     "data": {
      "text/plain": [
       "{'regions': array([[3062626, 3063246]], dtype=int32),\n",
       " 'values': array([[1091.]])}"
      ]
     },
     "execution_count": 13,
     "metadata": {},
     "output_type": "execute_result"
    }
   ],
   "source": [
    "nanog.data_in_interval('1', [3062586, 3062686])"
   ]
  },
  {
   "cell_type": "markdown",
   "metadata": {},
   "source": [
    "### Binning Data within an interval\n",
    "One more thing we might like to do is bin all of our information within a given region. For example, we might want to bin the entirety of chromosome 19 at a bin-size of 1000000 basepairs per bin and we're interested in the average Nanog signal per basepair in each bin:\n",
    "\n",
    "#### mean per-basepair signal"
   ]
  },
  {
   "cell_type": "code",
   "execution_count": 17,
   "metadata": {},
   "outputs": [
    {
     "data": {
      "text/plain": [
       "array([1.4737  , 4.742824, 0.252987, 1.024908, 0.251958, 1.400914,\n",
       "       1.16406 , 3.049388, 0.288801, 1.63093 , 0.310479, 3.777694,\n",
       "       1.004798, 1.076363, 0.09213 , 2.027423, 0.098806, 0.159859,\n",
       "       1.505698, 5.994817, 3.026484, 1.504105, 0.315828, 0.603885,\n",
       "       5.431245, 5.305076, 5.390754, 0.955334, 2.072912, 0.818917,\n",
       "       2.051902, 1.528815, 0.668389, 0.829137, 3.568554, 0.176563,\n",
       "       2.428078, 2.25923 , 1.387915, 1.113712, 1.492284, 1.11777 ,\n",
       "       2.711579, 2.143296, 0.398266, 0.740992, 0.237417, 0.68781 ,\n",
       "       0.105518, 0.557803, 0.256662, 1.494899, 1.187497, 1.50145 ,\n",
       "       1.952773, 1.661951, 1.617905, 0.667602, 0.      ])"
      ]
     },
     "execution_count": 17,
     "metadata": {},
     "output_type": "execute_result"
    }
   ],
   "source": [
    "nanog.bin_single_interval('19',\n",
    "                          int(1e6),\n",
    "                          interval = nanog.chr_lims['19'],\n",
    "                          stats_type = 'mean')[1]"
   ]
  },
  {
   "cell_type": "markdown",
   "metadata": {},
   "source": [
    "We could also look at the coverage (in basepairs) within each bin:\n",
    "\n",
    "#### Coverage"
   ]
  },
  {
   "cell_type": "code",
   "execution_count": 18,
   "metadata": {},
   "outputs": [
    {
     "data": {
      "text/plain": [
       "array([3030., 6552., 1425.,  669., 1320., 2960., 2537., 3173., 1201.,\n",
       "       2482., 1221., 6640., 2168., 2830.,  415., 4411.,  977., 1374.,\n",
       "       3797., 7565., 7639., 3350., 1578., 2382., 7922., 5926., 3652.,\n",
       "       1017., 2473., 3697., 3180., 4725., 2021., 2326., 8272., 1042.,\n",
       "       4696., 3917., 4359., 2566., 3806., 2973., 4680., 3173., 1299.,\n",
       "       1785., 1107., 1866.,  896., 3227., 1479., 3052., 4010., 3168.,\n",
       "       3457., 2755., 4034., 1409.,    0.])"
      ]
     },
     "execution_count": 18,
     "metadata": {},
     "output_type": "execute_result"
    }
   ],
   "source": [
    "nanog.bin_single_interval('19',\n",
    "                          int(1e6),\n",
    "                          interval = nanog.chr_lims['19'],\n",
    "                          stats_type = 'coverage')[1]"
   ]
  },
  {
   "cell_type": "markdown",
   "metadata": {},
   "source": [
    "We may also be interested in the mean signal within basepairs where we observe any signal at all:\n",
    "\n",
    "#### Mean per-region signal"
   ]
  },
  {
   "cell_type": "code",
   "execution_count": 20,
   "metadata": {},
   "outputs": [
    {
     "data": {
      "text/plain": [
       "array([ 486.36963696,  723.87423687,  177.53473684, 1532.        ,\n",
       "        190.87727273,  473.28175676,  458.83326764,  961.04254649,\n",
       "        240.46711074,  657.10314263,  254.28255528,  568.92981928,\n",
       "        463.46771218,  380.34028269,  222.        ,  459.62888234,\n",
       "        101.13203685,  116.34570597,  396.54938109,  792.44111038,\n",
       "        396.18850635,  448.98656716,  200.14448669,  253.52015113,\n",
       "        685.59012876,  895.22038475, 1476.11007667,  939.36479843,\n",
       "        838.21754953,  221.50852042,  645.25220126,  323.55873016,\n",
       "        330.72191984,  356.46474635,  431.40159574,  169.4462572 ,\n",
       "        517.05238501,  576.77559357,  318.40215646,  434.02650039,\n",
       "        392.08723069,  375.97376387,  579.39722222,  675.47935708,\n",
       "        306.59430331,  415.12156863,  214.46883469,  368.60128617,\n",
       "        117.765625  ,  172.85497366,  173.53752535,  489.80963303,\n",
       "        296.13391521,  473.94255051,  564.87503616,  603.24900181,\n",
       "        401.06717898,  473.81263307,    0.        ])"
      ]
     },
     "execution_count": 20,
     "metadata": {},
     "output_type": "execute_result"
    }
   ],
   "source": [
    "nanog.bin_single_interval('19',\n",
    "                          int(1e6),\n",
    "                          interval = nanog.chr_lims['19'],\n",
    "                          stats_type = 'per_region_mean')[1]"
   ]
  },
  {
   "cell_type": "markdown",
   "metadata": {},
   "source": [
    "Finally we might be interested in the sum of all basepair signals in our data over each bin\n",
    "#### Sum of all signals"
   ]
  },
  {
   "cell_type": "code",
   "execution_count": 21,
   "metadata": {},
   "outputs": [
    {
     "data": {
      "text/plain": [
       "array([1473700., 4742824.,  252987., 1024908.,  251958., 1400914.,\n",
       "       1164060., 3049388.,  288801., 1630930.,  310479., 3777694.,\n",
       "       1004798., 1076363.,   92130., 2027423.,   98806.,  159859.,\n",
       "       1505698., 5994817., 3026484., 1504105.,  315828.,  603885.,\n",
       "       5431245., 5305076., 5390754.,  955334., 2072912.,  818917.,\n",
       "       2051902., 1528815.,  668389.,  829137., 3568554.,  176563.,\n",
       "       2428078., 2259230., 1387915., 1113712., 1492284., 1117770.,\n",
       "       2711579., 2143296.,  398266.,  740992.,  237417.,  687810.,\n",
       "        105518.,  557803.,  256662., 1494899., 1187497., 1501450.,\n",
       "       1952773., 1661951., 1617905.,  667602.,       0.])"
      ]
     },
     "execution_count": 21,
     "metadata": {},
     "output_type": "execute_result"
    }
   ],
   "source": [
    "nanog.bin_single_interval('19',\n",
    "                          int(1e6),\n",
    "                          interval = nanog.chr_lims['19'],\n",
    "                          stats_type = 'sum')[1]"
   ]
  },
  {
   "cell_type": "markdown",
   "metadata": {},
   "source": [
    "## Statistics over an interval\n",
    "We can also just input random intervals and get statistics across these intervals. Here we can use the stats function to pass an interval as well as a statistic of interest (stats_type) for regions within this interval. As with the func method we can also access multiple intervals at once:"
   ]
  },
  {
   "cell_type": "markdown",
   "metadata": {},
   "source": [
    "### Coverage"
   ]
  },
  {
   "cell_type": "code",
   "execution_count": 22,
   "metadata": {},
   "outputs": [
    {
     "data": {
      "text/plain": [
       "array([25946., 38367.])"
      ]
     },
     "execution_count": 22,
     "metadata": {},
     "output_type": "execute_result"
    }
   ],
   "source": [
    "nanog.stats('1', [[0,1e7],[1e7,2e7]], stats_type= 'coverage')"
   ]
  },
  {
   "cell_type": "markdown",
   "metadata": {},
   "source": [
    "### Maximum value"
   ]
  },
  {
   "cell_type": "code",
   "execution_count": 23,
   "metadata": {},
   "outputs": [
    {
     "data": {
      "text/plain": [
       "array([2146., 2616.])"
      ]
     },
     "execution_count": 23,
     "metadata": {},
     "output_type": "execute_result"
    }
   ],
   "source": [
    "nanog.stats('1', [[0,1e7],[1e7,2e7]], stats_type= 'max')"
   ]
  },
  {
   "cell_type": "markdown",
   "metadata": {},
   "source": [
    "### Minimum value"
   ]
  },
  {
   "cell_type": "code",
   "execution_count": 24,
   "metadata": {},
   "outputs": [
    {
     "data": {
      "text/plain": [
       "array([0., 0.])"
      ]
     },
     "execution_count": 24,
     "metadata": {},
     "output_type": "execute_result"
    }
   ],
   "source": [
    "nanog.stats('1', [[0,1e7],[1e7,2e7]], stats_type= 'min')"
   ]
  },
  {
   "cell_type": "markdown",
   "metadata": {},
   "source": [
    "### Minimum value in regions with coverage"
   ]
  },
  {
   "cell_type": "code",
   "execution_count": 25,
   "metadata": {},
   "outputs": [
    {
     "data": {
      "text/plain": [
       "array([31., 48.])"
      ]
     },
     "execution_count": 25,
     "metadata": {},
     "output_type": "execute_result"
    }
   ],
   "source": [
    "nanog.stats('1', [[0,1e7],[1e7,2e7]], stats_type= 'per_region_min')"
   ]
  },
  {
   "cell_type": "markdown",
   "metadata": {},
   "source": [
    "### Standard deviation of values"
   ]
  },
  {
   "cell_type": "code",
   "execution_count": 26,
   "metadata": {},
   "outputs": [
    {
     "data": {
      "text/plain": [
       "array([39.5504118 , 46.86199231])"
      ]
     },
     "execution_count": 26,
     "metadata": {},
     "output_type": "execute_result"
    }
   ],
   "source": [
    "nanog.stats('1', [[0,1e7],[1e7,2e7]], stats_type= 'std')"
   ]
  },
  {
   "cell_type": "markdown",
   "metadata": {},
   "source": [
    "### Standard deviation of values in regions with coverage"
   ]
  },
  {
   "cell_type": "code",
   "execution_count": 27,
   "metadata": {},
   "outputs": [
    {
     "data": {
      "text/plain": [
       "array([583.68561687, 539.91291467])"
      ]
     },
     "execution_count": 27,
     "metadata": {},
     "output_type": "execute_result"
    }
   ],
   "source": [
    "nanog.stats('1', [[0,1e7],[1e7,2e7]], stats_type= 'per_region_std')"
   ]
  },
  {
   "cell_type": "markdown",
   "metadata": {},
   "source": [
    "### Mean value"
   ]
  },
  {
   "cell_type": "code",
   "execution_count": 28,
   "metadata": {},
   "outputs": [
    {
     "data": {
      "text/plain": [
       "array([1.330284 , 2.0372652])"
      ]
     },
     "execution_count": 28,
     "metadata": {},
     "output_type": "execute_result"
    }
   ],
   "source": [
    "nanog.stats('1', [[0,1e7],[1e7,2e7]], stats_type= 'mean')"
   ]
  },
  {
   "cell_type": "markdown",
   "metadata": {},
   "source": [
    "### Mean value in regions with coverage"
   ]
  },
  {
   "cell_type": "code",
   "execution_count": 29,
   "metadata": {},
   "outputs": [
    {
     "data": {
      "text/plain": [
       "array([512.71255685, 530.99413559])"
      ]
     },
     "execution_count": 29,
     "metadata": {},
     "output_type": "execute_result"
    }
   ],
   "source": [
    "nanog.stats('1', [[0,1e7],[1e7,2e7]], stats_type= 'per_region_mean')"
   ]
  },
  {
   "cell_type": "markdown",
   "metadata": {},
   "source": [
    "### Sum of all values"
   ]
  },
  {
   "cell_type": "code",
   "execution_count": 30,
   "metadata": {},
   "outputs": [
    {
     "data": {
      "text/plain": [
       "array([13302840., 20372652.])"
      ]
     },
     "execution_count": 30,
     "metadata": {},
     "output_type": "execute_result"
    }
   ],
   "source": [
    "nanog.stats('1', [[0,1e7],[1e7,2e7]], stats_type= 'sum')"
   ]
  },
  {
   "cell_type": "markdown",
   "metadata": {},
   "source": [
    "# BigWig files"
   ]
  },
  {
   "cell_type": "code",
   "execution_count": 2,
   "metadata": {},
   "outputs": [],
   "source": [
    "nanog_bigwig = \"tutorial_data/GSEXXXXXHendrich20161026_Nanog_ESC_control_lambda_filter_norm.bw\"\n",
    "nanog = dt.DataTrack_bigwig(\"Nanog\").from_bw(nanog_bigwig)"
   ]
  },
  {
   "cell_type": "code",
   "execution_count": 3,
   "metadata": {},
   "outputs": [
    {
     "data": {
      "text/plain": [
       "{'chr1': [0, 195471971],\n",
       " 'chr3': [0, 160039680],\n",
       " 'chr2': [0, 182113224],\n",
       " 'chr4': [0, 156508116],\n",
       " 'chr7': [0, 145441459],\n",
       " 'chr6': [0, 149736546],\n",
       " 'chr9': [0, 124595110],\n",
       " 'chr5': [0, 151834684],\n",
       " 'chr11': [0, 122082543],\n",
       " 'chr12': [0, 120129022],\n",
       " 'chr8': [0, 129401213],\n",
       " 'chrY': [0, 91744698],\n",
       " 'chrX': [0, 171031299],\n",
       " 'chr10': [0, 130694993],\n",
       " 'chr13': [0, 120421639],\n",
       " 'chr15': [0, 104043685],\n",
       " 'chr14': [0, 124902244],\n",
       " 'chr16': [0, 98207768],\n",
       " 'chr19': [0, 61431566],\n",
       " 'chr18': [0, 90702639],\n",
       " 'chr17': [0, 94987271]}"
      ]
     },
     "execution_count": 3,
     "metadata": {},
     "output_type": "execute_result"
    }
   ],
   "source": [
    "nanog.chr_lims"
   ]
  },
  {
   "cell_type": "code",
   "execution_count": 4,
   "metadata": {},
   "outputs": [
    {
     "data": {
      "text/plain": [
       "{'version': 4,\n",
       " 'nLevels': 10,\n",
       " 'nBasesCovered': 2722419370,\n",
       " 'minVal': 0,\n",
       " 'maxVal': 10,\n",
       " 'sumData': 440987682,\n",
       " 'sumSquared': 75467929}"
      ]
     },
     "execution_count": 4,
     "metadata": {},
     "output_type": "execute_result"
    }
   ],
   "source": [
    "nanog.header"
   ]
  },
  {
   "cell_type": "code",
   "execution_count": 5,
   "metadata": {},
   "outputs": [
    {
     "data": {
      "text/plain": [
       "array([[0.144385, 0.144385, 0.144385, 0.144385, 0.144385, 0.144385,\n",
       "        0.144385, 0.144385, 0.144385, 0.144385, 0.144385, 0.144385,\n",
       "        0.144385, 0.144385, 0.144385, 0.144385, 0.144385, 0.144385,\n",
       "        0.144385, 0.144385, 0.144385, 0.144385, 0.144385, 0.144385,\n",
       "        0.144385, 0.144385, 0.144385, 0.144385, 0.144385, 0.144385,\n",
       "        0.144385, 0.144385, 0.144385, 0.144385, 0.144385, 0.144385,\n",
       "        0.144385, 0.144385, 0.144385, 0.144385, 0.144385, 0.144385,\n",
       "        0.144385, 0.144385, 0.144385, 0.144385, 0.144385, 0.144385,\n",
       "        0.144385, 0.144385, 0.144385, 0.144385, 0.144385, 0.144385,\n",
       "        0.144385, 0.144385, 0.144385, 0.144385, 0.144385, 0.144385,\n",
       "        0.144385, 0.144385, 0.144385, 0.144385, 0.144385, 0.144385,\n",
       "        0.144385, 0.144385, 0.144385, 0.144385, 0.144385, 0.144385,\n",
       "        0.144385, 0.144385, 0.144385, 0.144385, 0.144385, 0.144385,\n",
       "        0.144385, 0.144385, 0.144385, 0.144385, 0.144385, 0.144385,\n",
       "        0.144385, 0.144385, 0.144385, 0.144385, 0.144385, 0.144385,\n",
       "        0.144385, 0.144385, 0.144385, 0.144385, 0.144385, 0.144385,\n",
       "        0.144385, 0.144385, 0.144385, 0.144385, 0.144385, 0.144385,\n",
       "        0.144385, 0.144385, 0.144385, 0.144385, 0.144385, 0.144385,\n",
       "        0.144385, 0.144385, 0.144385, 0.144385, 0.144385, 0.144385,\n",
       "        0.144385, 0.144385, 0.144385, 0.144385, 0.144385, 0.144385,\n",
       "        0.144385, 0.144385, 0.144385, 0.144385, 0.144385, 0.144385,\n",
       "        0.144385, 0.144385, 0.144385, 0.144385, 0.144385, 0.144385,\n",
       "        0.144385, 0.144385, 0.144385, 0.144385, 0.144385, 0.144385,\n",
       "        0.144385, 0.144385, 0.144385, 0.144385, 0.144385, 0.144385,\n",
       "        0.144385, 0.144385, 0.144385, 0.144385, 0.144385, 0.144385,\n",
       "        0.144385, 0.144385, 0.144385, 0.144385, 0.144385, 0.144385,\n",
       "        0.144385, 0.144385, 0.144385, 0.144385, 0.144385, 0.144385,\n",
       "        0.144385, 0.144385, 0.144385, 0.144385, 0.144385, 0.144385,\n",
       "        0.144385, 0.144385, 0.144385, 0.144385, 0.144385, 0.144385,\n",
       "        0.144385, 0.144385, 0.144385, 0.144385, 0.144385, 0.144385,\n",
       "        0.144385, 0.144385, 0.144385, 0.144385, 0.144385, 0.144385,\n",
       "        0.144385, 0.144385, 0.144385, 0.144385, 0.144385, 0.144385,\n",
       "        0.144385, 0.144385, 0.144385, 0.144385, 0.144385, 0.144385,\n",
       "        0.144385, 0.144385]])"
      ]
     },
     "execution_count": 5,
     "metadata": {},
     "output_type": "execute_result"
    }
   ],
   "source": [
    "#Here is the start of a peak in our Nanog datatrack on chromosome 1\n",
    "nanog.func('chr1',[3062586], buffer = 100)"
   ]
  },
  {
   "cell_type": "code",
   "execution_count": null,
   "metadata": {},
   "outputs": [],
   "source": [
    "x = dict(np.load(\"tutorial_data/active_promoters.npz\"))"
   ]
  },
  {
   "cell_type": "code",
   "execution_count": null,
   "metadata": {},
   "outputs": [],
   "source": [
    "buffer = 1000\n",
    "promoter_nanog_signal = np.zeros(100)\n",
    "numproms = 0\n",
    "for chrom in nanog.chromosomes:\n",
    "    print(\"Chrom\")\n",
    "    try:\n",
    "        mids = np.mean(x[chrom[3:]], axis = 1).astype('int')\n",
    "    except:\n",
    "        print(\"couldn't find active promoter info for chromosome {}\".format(chrom))\n",
    "        continue\n",
    "        \n",
    "    promoter_nanog_signal = np.sum(nanog.func(chrom, mids, buffer = buffer, binSize = 10), axis = 0)\n",
    "    numproms += len(mids)\n",
    "\n",
    "promoter_nanog_signal /= numproms"
   ]
  },
  {
   "cell_type": "code",
   "execution_count": null,
   "metadata": {},
   "outputs": [],
   "source": [
    "fig = plt.figure(figsize = (12,10))\n",
    "plot = plt.plot(np.arange(len(promoter_nanog_signal)), promoter_nanog_signal)\n",
    "xticks = plt.xticks([0,500,1000,1500,2000], [-1000, -500, 0, 500,1000])\n",
    "plt.tick_params(labelsize = 15)\n",
    "plt.ylabel(\"Average Signal\", size = 20)\n",
    "plt.xlabel(\"Distance from active promoter centre\", size = 20)\n",
    "plt.title(\"Active promoter nanog signal\\nNaive mESCs\", size = 20)"
   ]
  },
  {
   "cell_type": "code",
   "execution_count": 8,
   "metadata": {},
   "outputs": [
    {
     "data": {
      "text/plain": [
       "array([[0.02338896],\n",
       "       [0.02938107]])"
      ]
     },
     "execution_count": 8,
     "metadata": {},
     "output_type": "execute_result"
    }
   ],
   "source": [
    "nanog.stats('chr1', [[0,1e7],[1e7,2e7]], type= 'std')"
   ]
  },
  {
   "cell_type": "code",
   "execution_count": 7,
   "metadata": {},
   "outputs": [
    {
     "data": {
      "text/plain": [
       "28.571428571428573"
      ]
     },
     "execution_count": 7,
     "metadata": {},
     "output_type": "execute_result"
    }
   ],
   "source": []
  },
  {
   "cell_type": "code",
   "execution_count": null,
   "metadata": {},
   "outputs": [],
   "source": []
  }
 ],
 "metadata": {
  "kernelspec": {
   "display_name": "Python 3",
   "language": "python",
   "name": "python3"
  },
  "language_info": {
   "codemirror_mode": {
    "name": "ipython",
    "version": 3
   },
   "file_extension": ".py",
   "mimetype": "text/x-python",
   "name": "python",
   "nbconvert_exporter": "python",
   "pygments_lexer": "ipython3",
   "version": "3.7.6"
  }
 },
 "nbformat": 4,
 "nbformat_minor": 4
}
