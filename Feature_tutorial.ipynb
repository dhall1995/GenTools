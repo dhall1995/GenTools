{
 "cells": [
  {
   "cell_type": "markdown",
   "metadata": {},
   "source": [
    "# Feature Tutorial\n",
    "\n",
    "Besides datatracks, another aspect of chromatin/genome/structural biology which is routinely needed to be investigated are features. This can be in an extremely broad sense but to a first approximation a genome feature is just a named region of the genome which doesn't change. This is distinct from datatracks which define some function over genomic regions (see the Datatrack tutorial). \n",
    "\n",
    "Ofcourse, we could just encode features as numpy arrays on some chromosome:"
   ]
  },
  {
   "cell_type": "code",
   "execution_count": 1,
   "metadata": {},
   "outputs": [
    {
     "name": "stdout",
     "output_type": "stream",
     "text": [
      "('4', array([10, 20]))\n"
     ]
    }
   ],
   "source": [
    "import numpy as np\n",
    "myregion = np.array([10,20])\n",
    "mychrom = '4'\n",
    "\n",
    "myfeature = (mychrom, myregion)\n",
    "print(myfeature)"
   ]
  },
  {
   "cell_type": "markdown",
   "metadata": {},
   "source": [
    "However, this isn't the most flexible and when we scale to large numbers of features it may not even be so descriptive or useful. Firstly, we often need a way to link features together. For example:\n",
    "- A given gene may be associated with a given promoter. \n",
    "- A topologically associated domain (TAD) may contain multiple promoters within it\n",
    "\n",
    "Secondly, features may have condition-specific attributes which we might want to assign to them (while still having access to the same condition-independent feature). For example:\n",
    "\n",
    "- A promoter might have active marks in naive mESCs but bivalent marks in primed mESCs\n",
    "- A TAD may be within the A compartment in naive mESCs but move to the B compartment in primed mESCs\n",
    "\n",
    "Finally, we may want to keep track of datatracks within specific classes of features. For example:\n",
    "\n",
    "- We may want to know average rates of DNA methylation at active vs. bivalent promoters in naive mESCs\n",
    "\n",
    "In order to do all of these things, we'll make use of the Datatrack classes and the Feature classes. A bit of work will be needed to create our feature classes but once done it will provide some flexible analysis tools."
   ]
  },
  {
   "cell_type": "markdown",
   "metadata": {},
   "source": [
    "## Modules"
   ]
  },
  {
   "cell_type": "code",
   "execution_count": 2,
   "metadata": {},
   "outputs": [],
   "source": [
    "from GenTools.tools import Feature as F\n",
    "from GenTools.tools import Datatrack as Dt\n",
    "from GenTools.utils import dtrack_utils as dtu\n",
    "\n",
    "import pandas as pd\n",
    "import numpy as np"
   ]
  },
  {
   "cell_type": "markdown",
   "metadata": {},
   "source": [
    "## The Feature Class\n",
    "The main class which i'll use to encode general features is the Feature class. At it's base, all a feature needs is a type and a unique ID which allows us to keep track of that feature:"
   ]
  },
  {
   "cell_type": "code",
   "execution_count": 3,
   "metadata": {},
   "outputs": [
    {
     "name": "stdout",
     "output_type": "stream",
     "text": [
      "Thisi is a feature of type:\ttype1\n",
      "and with ID:\ttype1_UID1\n"
     ]
    }
   ],
   "source": [
    "myfeat1 = F.Feature('type1', 'type1_UID1')\n",
    "\n",
    "print(\"Thisi is a feature of type:\\t{}\\nand with ID:\\t{}\".format(myfeat1.type, myfeat1.id))"
   ]
  },
  {
   "cell_type": "markdown",
   "metadata": {},
   "source": [
    "### Feature Attributes\n",
    "One optional input when we construct our feature is attrs (attributes). Essentially this is extra info beyond the feature ID and the feature type which we might want to associate with the feature. Let's add a 'chromosome' attribute to our feature myfeat1:"
   ]
  },
  {
   "cell_type": "code",
   "execution_count": 4,
   "metadata": {},
   "outputs": [
    {
     "name": "stdout",
     "output_type": "stream",
     "text": [
      "{'chromosome': '1'}\n"
     ]
    }
   ],
   "source": [
    "myfeat1.attrs['chromosome'] = '1'\n",
    "\n",
    "print(myfeat1.attrs)"
   ]
  },
  {
   "cell_type": "markdown",
   "metadata": {},
   "source": [
    "Feature attributes can really be anything:"
   ]
  },
  {
   "cell_type": "code",
   "execution_count": 5,
   "metadata": {},
   "outputs": [
    {
     "name": "stdout",
     "output_type": "stream",
     "text": [
      "{'chromosome': '1', 'region': array([[10, 20]], dtype=int32)}\n"
     ]
    }
   ],
   "source": [
    "myfeat1.attrs['region'] = np.array([[10,20]]).astype('int32')\n",
    "print(myfeat1.attrs)"
   ]
  },
  {
   "cell_type": "markdown",
   "metadata": {},
   "source": [
    "### Feature Children\n",
    "Features can also have children:"
   ]
  },
  {
   "cell_type": "code",
   "execution_count": 6,
   "metadata": {},
   "outputs": [],
   "source": [
    "#Lets make a second feature of type 2\n",
    "myfeat2 = F.Feature('type2',\n",
    "                    'type2_UID1',\n",
    "                    attrs = {'chromosome': '1',\n",
    "                             'region': np.array([[11, 13]]).astype('int32')\n",
    "                            }\n",
    "                   )\n",
    "\n",
    "\n",
    "#Now let's add it to our first feature as a child\n",
    "myfeat1.add_child(myfeat2, #The child feature we want to add\n",
    "                  'type2' #The type of child feature we're adding\n",
    "                 )"
   ]
  },
  {
   "cell_type": "markdown",
   "metadata": {},
   "source": [
    "The children of myfeat1 are stored in a dictionary in myfeat1.children. In particular, since we have specified our child type as 'type2', myfeat2 will appear in myfeat1.children['type2']:"
   ]
  },
  {
   "cell_type": "code",
   "execution_count": 7,
   "metadata": {},
   "outputs": [
    {
     "name": "stdout",
     "output_type": "stream",
     "text": [
      "Children of type1_UID1:\n",
      "{'type2': [<GenTools.tools.Feature.Feature object at 0x7ffb088f9890>]}\n",
      "Attributes of type2_UID1\n",
      "{'chromosome': '1', 'region': array([[11, 13]], dtype=int32)}\n"
     ]
    }
   ],
   "source": [
    "print(\"Children of {}:\".format(myfeat1.id))\n",
    "print(myfeat1.children)\n",
    "\n",
    "#We can also access the attributes of children\n",
    "print(\"Attributes of {}\".format(myfeat1.children['type2'][0].id))\n",
    "print(myfeat1.children['type2'][0].attrs)"
   ]
  },
  {
   "cell_type": "markdown",
   "metadata": {},
   "source": [
    "Note that at the moment there is nothing stopping the same feature from being added twice:"
   ]
  },
  {
   "cell_type": "code",
   "execution_count": 8,
   "metadata": {},
   "outputs": [
    {
     "name": "stdout",
     "output_type": "stream",
     "text": [
      "{'type2': [<GenTools.tools.Feature.Feature object at 0x7ffb088f9890>, <GenTools.tools.Feature.Feature object at 0x7ffb088f9890>]}\n"
     ]
    }
   ],
   "source": [
    "#Now let's add it to our first feature as a child\n",
    "myfeat1.add_child(myfeat2, #The child feature we want to add\n",
    "                  'type2' #The type of child feature we're adding\n",
    "                 )\n",
    "\n",
    "print(myfeat1.children)"
   ]
  },
  {
   "cell_type": "markdown",
   "metadata": {},
   "source": [
    "However, since we have added the same feature (myfeat2) twice, note that the location of each item in the list myfeat1.children['type2'] is the same i.e. they're the same object. \n",
    "\n",
    "Let's see what happens if we add an attribute to our myfeat2:"
   ]
  },
  {
   "cell_type": "code",
   "execution_count": 9,
   "metadata": {},
   "outputs": [
    {
     "name": "stdout",
     "output_type": "stream",
     "text": [
      "Before editing the region the attributes of type2_UID1 are:\n",
      "{'chromosome': '1', 'region': array([[11, 13]], dtype=int32)}\n",
      "\n",
      "\n",
      "###################################################\n",
      "After editing the region of the attributes of type2_UID1, accessing the attrs via type2_UID1 we get:\n",
      "{'chromosome': '1', 'region': array([[11, 17]], dtype=int32)}\n",
      "\n",
      "\n",
      "###################################################\n",
      "After editing the region of the attributes of type2_UID1, accessing the attrs via type1_UID1 we get:\n",
      "Child type2 number 0:\n",
      "{'chromosome': '1', 'region': array([[11, 17]], dtype=int32)}\n",
      "Child type2 number 1:\n",
      "{'chromosome': '1', 'region': array([[11, 17]], dtype=int32)}\n"
     ]
    }
   ],
   "source": [
    "print(\"Before editing the region the attributes of {} are:\".format(myfeat2.id))\n",
    "print(myfeat2.attrs)\n",
    "print(\"\\n\")\n",
    "print(\"###################################################\")\n",
    "#Changing the region of myfeat2 to be longer\n",
    "myfeat2.attrs['region'][0,1] = 17\n",
    "\n",
    "print(\"After editing the region of the attributes of {}, accessing the attrs via {} we get:\".format(myfeat2.id, myfeat2.id))\n",
    "print(myfeat2.attrs)\n",
    "print(\"\\n\")\n",
    "print(\"###################################################\")\n",
    "\n",
    "print(\"After editing the region of the attributes of {}, accessing the attrs via {} we get:\".format(myfeat2.id, myfeat1.id))\n",
    "print(\"Child type2 number 0:\")\n",
    "print(myfeat1.children['type2'][0].attrs)\n",
    "print(\"Child type2 number 1:\")\n",
    "print(myfeat1.children['type2'][1].attrs)"
   ]
  },
  {
   "cell_type": "markdown",
   "metadata": {},
   "source": [
    "Because the two added children (both myfeat2) are actually the same object, when we edit that object, the same edits are applied to the children within myfeat1. \n",
    "\n",
    "Finally, the input 'type2' into the add_child method is not entirely necessary since it can be inferred from myfeat2:"
   ]
  },
  {
   "cell_type": "code",
   "execution_count": 10,
   "metadata": {},
   "outputs": [
    {
     "name": "stdout",
     "output_type": "stream",
     "text": [
      "{'type2': [<GenTools.tools.Feature.Feature object at 0x7ffb78138fd0>]}\n"
     ]
    }
   ],
   "source": [
    "myfeat1 = F.Feature('type1', 'type1_UID1')\n",
    "myfeat2 = F.Feature('type2', 'type2_UID1')\n",
    "myfeat1.add_child(myfeat2)\n",
    "\n",
    "print(myfeat1.children)"
   ]
  },
  {
   "cell_type": "markdown",
   "metadata": {},
   "source": [
    "However, we may want to group children of the same type when we add children to our features. Therefore we can specify the child type:"
   ]
  },
  {
   "cell_type": "code",
   "execution_count": 11,
   "metadata": {},
   "outputs": [
    {
     "name": "stdout",
     "output_type": "stream",
     "text": [
      "{'type2a': [<GenTools.tools.Feature.Feature object at 0x7ffb088f9290>], 'type2b': [<GenTools.tools.Feature.Feature object at 0x7ffb78138f90>]}\n"
     ]
    }
   ],
   "source": [
    "myfeat1 = F.Feature('type1', 'type1_UID1')\n",
    "myfeat2 = F.Feature('type2', 'type2_UID1')\n",
    "myfeat3 = F.Feature('type2', 'type2_UID2') #Third feature of the same type as myfeat2 but with a different UID\n",
    "myfeat1.add_child(myfeat2, 'type2a')\n",
    "myfeat1.add_child(myfeat3, 'type2b')\n",
    "\n",
    "print(myfeat1.children)"
   ]
  },
  {
   "cell_type": "markdown",
   "metadata": {},
   "source": [
    "### Feature Parents\n",
    "Features can also have parents. These work just the same as children:"
   ]
  },
  {
   "cell_type": "code",
   "execution_count": 12,
   "metadata": {},
   "outputs": [
    {
     "name": "stdout",
     "output_type": "stream",
     "text": [
      "Child information for type1_UID1:\n",
      "type2_UID1\n",
      "type2\n",
      "{}\n",
      "\n",
      "\n",
      "Parent information for type2_UID1:\n",
      "type1_UID1\n",
      "type1\n",
      "{}\n"
     ]
    }
   ],
   "source": [
    "myfeat1 = F.Feature('type1', 'type1_UID1')\n",
    "myfeat2 = F.Feature('type2', 'type2_UID1')\n",
    "myfeat1.add_child(myfeat2)\n",
    "myfeat2.add_parent(myfeat1)\n",
    "\n",
    "print(\"Child information for {}:\".format(myfeat1.id))\n",
    "print(myfeat1.children['type2'][0].id)\n",
    "print(myfeat1.children['type2'][0].type)\n",
    "print(myfeat1.children['type2'][0].attrs)\n",
    "print(\"\\n\")\n",
    "print(\"Parent information for {}:\".format(myfeat2.id))\n",
    "print(myfeat2.parents['type1'][0].id)\n",
    "print(myfeat2.parents['type1'][0].type)\n",
    "print(myfeat2.parents['type1'][0].attrs)"
   ]
  },
  {
   "cell_type": "markdown",
   "metadata": {},
   "source": [
    "## Single Condition Features\n",
    "Sometimes we might want to associate a feature with a single condition and for this there is the Feature_single_condition class. The only difference between this and the standard Feature class is that the initialisation of one of these objects requires that a condition be specified. For example we might specify a TAD which seems to be unique to the naive mESC timepoint:"
   ]
  },
  {
   "cell_type": "code",
   "execution_count": 13,
   "metadata": {},
   "outputs": [
    {
     "name": "stdout",
     "output_type": "stream",
     "text": [
      "tad\n",
      "tad_UID1\n",
      "naive\n",
      "2\n",
      "[[10 20]]\n"
     ]
    }
   ],
   "source": [
    "mESC_TAD = F.Feature_single_condition('tad',       #Feature type\n",
    "                                      'tad_UID1',  #Feature UID\n",
    "                                      'naive',      #Condition\n",
    "                                      attrs = {'region': np.array([[10,20]]).astype('int32'),\n",
    "                                               'chromosome': '2'\n",
    "                                              }\n",
    "                                     )\n",
    "print(mESC_TAD.type)\n",
    "print(mESC_TAD.id)\n",
    "print(mESC_TAD.attrs['condition'])\n",
    "print(mESC_TAD.attrs['chromosome'])\n",
    "print(mESC_TAD.attrs['region'])"
   ]
  },
  {
   "cell_type": "markdown",
   "metadata": {},
   "source": [
    "## Single Cell Features\n",
    "As a subclass of single-condition features sometimes we might want to associate a feature with a single cell and for this there is the Feature_single_cell class. The only difference between this and the Feature_single_condition class is that the initialisation of one of these objects requires that a cell identifier be specified. For example we might specify a loop which seems to be unique to a single cell in the naive mESC timepoint:"
   ]
  },
  {
   "cell_type": "code",
   "execution_count": 14,
   "metadata": {},
   "outputs": [
    {
     "name": "stdout",
     "output_type": "stream",
     "text": [
      "loop\n",
      "loop_UID1\n",
      "naive\n",
      "2\n",
      "[[10 20]\n",
      " [50 60]]\n"
     ]
    }
   ],
   "source": [
    "mESC_loop = F.Feature_single_cell('loop',      #Feature type\n",
    "                                 'loop_UID1',  #Feature UID\n",
    "                                 'cell_1',     #Cell ID\n",
    "                                 'naive',      #Condition\n",
    "                                 attrs = {'contacts': np.array([[10,20],[50,60]]).astype('int32'),\n",
    "                                          'chromosome': '2'\n",
    "                                              }\n",
    "                                )\n",
    "print(mESC_loop.type)\n",
    "print(mESC_loop.id)\n",
    "print(mESC_loop.attrs['condition'])\n",
    "print(mESC_loop.attrs['chromosome'])\n",
    "print(mESC_loop.attrs['contacts'])"
   ]
  },
  {
   "cell_type": "markdown",
   "metadata": {},
   "source": [
    "# A conrete example: TADs and Promoters\n",
    "Let's look at an example using TAD boundaries defined in Bonev et al (2017) assigning:\n",
    "\n",
    "- Compartmental score to specific TSS sites\n",
    "- Transcriptional start sites to specific TADs\n",
    "\n",
    "For this we'll use the GRCm38_p2 genome build for mouse and download the TSS sites for each gene (this is publically available data but also included in the tutorial_data). Since the main task will be converting given data into a Feature form to be used by this module, let's take a look at the data which we'll use:\n",
    "\n",
    "## Genes, Promoters and TSS"
   ]
  },
  {
   "cell_type": "code",
   "execution_count": 15,
   "metadata": {},
   "outputs": [
    {
     "data": {
      "text/html": [
       "<div>\n",
       "<style scoped>\n",
       "    .dataframe tbody tr th:only-of-type {\n",
       "        vertical-align: middle;\n",
       "    }\n",
       "\n",
       "    .dataframe tbody tr th {\n",
       "        vertical-align: top;\n",
       "    }\n",
       "\n",
       "    .dataframe thead th {\n",
       "        text-align: right;\n",
       "    }\n",
       "</style>\n",
       "<table border=\"1\" class=\"dataframe\">\n",
       "  <thead>\n",
       "    <tr style=\"text-align: right;\">\n",
       "      <th></th>\n",
       "      <th>Gene Start (bp)</th>\n",
       "      <th>Strand</th>\n",
       "      <th>Chromosome Name</th>\n",
       "      <th>Associated Gene Name</th>\n",
       "      <th>Transcript Start (bp)</th>\n",
       "      <th>Gene End (bp)</th>\n",
       "    </tr>\n",
       "    <tr>\n",
       "      <th>Ensembl Gene ID</th>\n",
       "      <th></th>\n",
       "      <th></th>\n",
       "      <th></th>\n",
       "      <th></th>\n",
       "      <th></th>\n",
       "      <th></th>\n",
       "    </tr>\n",
       "  </thead>\n",
       "  <tbody>\n",
       "    <tr>\n",
       "      <th>ENSMUSG00000095309</th>\n",
       "      <td>21272179</td>\n",
       "      <td>1</td>\n",
       "      <td>7</td>\n",
       "      <td>Vmn1r125</td>\n",
       "      <td>21272179</td>\n",
       "      <td>21273102</td>\n",
       "    </tr>\n",
       "    <tr>\n",
       "      <th>ENSMUSG00000000126</th>\n",
       "      <td>59306928</td>\n",
       "      <td>1</td>\n",
       "      <td>11</td>\n",
       "      <td>Wnt9a</td>\n",
       "      <td>59306930</td>\n",
       "      <td>59333552</td>\n",
       "    </tr>\n",
       "    <tr>\n",
       "      <th>ENSMUSG00000000126</th>\n",
       "      <td>59306928</td>\n",
       "      <td>1</td>\n",
       "      <td>11</td>\n",
       "      <td>Wnt9a</td>\n",
       "      <td>59306928</td>\n",
       "      <td>59333552</td>\n",
       "    </tr>\n",
       "    <tr>\n",
       "      <th>ENSMUSG00000086196</th>\n",
       "      <td>60338188</td>\n",
       "      <td>1</td>\n",
       "      <td>2</td>\n",
       "      <td>Gm13571</td>\n",
       "      <td>60355352</td>\n",
       "      <td>60371234</td>\n",
       "    </tr>\n",
       "    <tr>\n",
       "      <th>ENSMUSG00000086196</th>\n",
       "      <td>60338188</td>\n",
       "      <td>1</td>\n",
       "      <td>2</td>\n",
       "      <td>Gm13571</td>\n",
       "      <td>60338188</td>\n",
       "      <td>60371234</td>\n",
       "    </tr>\n",
       "    <tr>\n",
       "      <th>...</th>\n",
       "      <td>...</td>\n",
       "      <td>...</td>\n",
       "      <td>...</td>\n",
       "      <td>...</td>\n",
       "      <td>...</td>\n",
       "      <td>...</td>\n",
       "    </tr>\n",
       "    <tr>\n",
       "      <th>ENSMUSG00000077593</th>\n",
       "      <td>77682614</td>\n",
       "      <td>1</td>\n",
       "      <td>18</td>\n",
       "      <td>Gm26014</td>\n",
       "      <td>77682614</td>\n",
       "      <td>77682745</td>\n",
       "    </tr>\n",
       "    <tr>\n",
       "      <th>ENSMUSG00000065122</th>\n",
       "      <td>84649496</td>\n",
       "      <td>1</td>\n",
       "      <td>9</td>\n",
       "      <td>Gm26126</td>\n",
       "      <td>84649496</td>\n",
       "      <td>84649659</td>\n",
       "    </tr>\n",
       "    <tr>\n",
       "      <th>ENSMUSG00000093072</th>\n",
       "      <td>114580495</td>\n",
       "      <td>1</td>\n",
       "      <td>13</td>\n",
       "      <td>Gm25950</td>\n",
       "      <td>114580495</td>\n",
       "      <td>114580594</td>\n",
       "    </tr>\n",
       "    <tr>\n",
       "      <th>ENSMUSG00000088303</th>\n",
       "      <td>118164078</td>\n",
       "      <td>1</td>\n",
       "      <td>4</td>\n",
       "      <td>Gm23382</td>\n",
       "      <td>118164078</td>\n",
       "      <td>118164181</td>\n",
       "    </tr>\n",
       "    <tr>\n",
       "      <th>ENSMUSG00000084441</th>\n",
       "      <td>110732036</td>\n",
       "      <td>1</td>\n",
       "      <td>14</td>\n",
       "      <td>Gm26255</td>\n",
       "      <td>110732036</td>\n",
       "      <td>110732138</td>\n",
       "    </tr>\n",
       "  </tbody>\n",
       "</table>\n",
       "<p>94084 rows × 6 columns</p>\n",
       "</div>"
      ],
      "text/plain": [
       "                    Gene Start (bp)  Strand Chromosome Name  \\\n",
       "Ensembl Gene ID                                               \n",
       "ENSMUSG00000095309         21272179       1               7   \n",
       "ENSMUSG00000000126         59306928       1              11   \n",
       "ENSMUSG00000000126         59306928       1              11   \n",
       "ENSMUSG00000086196         60338188       1               2   \n",
       "ENSMUSG00000086196         60338188       1               2   \n",
       "...                             ...     ...             ...   \n",
       "ENSMUSG00000077593         77682614       1              18   \n",
       "ENSMUSG00000065122         84649496       1               9   \n",
       "ENSMUSG00000093072        114580495       1              13   \n",
       "ENSMUSG00000088303        118164078       1               4   \n",
       "ENSMUSG00000084441        110732036       1              14   \n",
       "\n",
       "                   Associated Gene Name  Transcript Start (bp)  Gene End (bp)  \n",
       "Ensembl Gene ID                                                                \n",
       "ENSMUSG00000095309             Vmn1r125               21272179       21273102  \n",
       "ENSMUSG00000000126                Wnt9a               59306930       59333552  \n",
       "ENSMUSG00000000126                Wnt9a               59306928       59333552  \n",
       "ENSMUSG00000086196              Gm13571               60355352       60371234  \n",
       "ENSMUSG00000086196              Gm13571               60338188       60371234  \n",
       "...                                 ...                    ...            ...  \n",
       "ENSMUSG00000077593              Gm26014               77682614       77682745  \n",
       "ENSMUSG00000065122              Gm26126               84649496       84649659  \n",
       "ENSMUSG00000093072              Gm25950              114580495      114580594  \n",
       "ENSMUSG00000088303              Gm23382              118164078      118164181  \n",
       "ENSMUSG00000084441              Gm26255              110732036      110732138  \n",
       "\n",
       "[94084 rows x 6 columns]"
      ]
     },
     "execution_count": 15,
     "metadata": {},
     "output_type": "execute_result"
    }
   ],
   "source": [
    "# TRANSCRIPTONAL START SITES #################################################################################\n",
    "TSS_file = \"tutorial_data/ensembl_TSS_sites_GRCm38_p2.txt\"\n",
    "TSS = pd.read_csv(TSS_file, sep = '\\t', index_col = 0)\n",
    "TSS"
   ]
  },
  {
   "cell_type": "markdown",
   "metadata": {},
   "source": [
    "We can see there are A LOT of rows (94084!). Let's try and pull out the Nanog gene (ensembl ID: ENSMUSG00000012396):"
   ]
  },
  {
   "cell_type": "code",
   "execution_count": 16,
   "metadata": {},
   "outputs": [
    {
     "data": {
      "text/html": [
       "<div>\n",
       "<style scoped>\n",
       "    .dataframe tbody tr th:only-of-type {\n",
       "        vertical-align: middle;\n",
       "    }\n",
       "\n",
       "    .dataframe tbody tr th {\n",
       "        vertical-align: top;\n",
       "    }\n",
       "\n",
       "    .dataframe thead th {\n",
       "        text-align: right;\n",
       "    }\n",
       "</style>\n",
       "<table border=\"1\" class=\"dataframe\">\n",
       "  <thead>\n",
       "    <tr style=\"text-align: right;\">\n",
       "      <th></th>\n",
       "      <th>Gene Start (bp)</th>\n",
       "      <th>Strand</th>\n",
       "      <th>Chromosome Name</th>\n",
       "      <th>Associated Gene Name</th>\n",
       "      <th>Transcript Start (bp)</th>\n",
       "      <th>Gene End (bp)</th>\n",
       "    </tr>\n",
       "    <tr>\n",
       "      <th>Ensembl Gene ID</th>\n",
       "      <th></th>\n",
       "      <th></th>\n",
       "      <th></th>\n",
       "      <th></th>\n",
       "      <th></th>\n",
       "      <th></th>\n",
       "    </tr>\n",
       "  </thead>\n",
       "  <tbody>\n",
       "    <tr>\n",
       "      <th>ENSMUSG00000012396</th>\n",
       "      <td>122707489</td>\n",
       "      <td>1</td>\n",
       "      <td>6</td>\n",
       "      <td>Nanog</td>\n",
       "      <td>122707489</td>\n",
       "      <td>122714633</td>\n",
       "    </tr>\n",
       "    <tr>\n",
       "      <th>ENSMUSG00000012396</th>\n",
       "      <td>122707489</td>\n",
       "      <td>1</td>\n",
       "      <td>6</td>\n",
       "      <td>Nanog</td>\n",
       "      <td>122707565</td>\n",
       "      <td>122714633</td>\n",
       "    </tr>\n",
       "    <tr>\n",
       "      <th>ENSMUSG00000012396</th>\n",
       "      <td>122707489</td>\n",
       "      <td>1</td>\n",
       "      <td>6</td>\n",
       "      <td>Nanog</td>\n",
       "      <td>122707568</td>\n",
       "      <td>122714633</td>\n",
       "    </tr>\n",
       "  </tbody>\n",
       "</table>\n",
       "</div>"
      ],
      "text/plain": [
       "                    Gene Start (bp)  Strand Chromosome Name  \\\n",
       "Ensembl Gene ID                                               \n",
       "ENSMUSG00000012396        122707489       1               6   \n",
       "ENSMUSG00000012396        122707489       1               6   \n",
       "ENSMUSG00000012396        122707489       1               6   \n",
       "\n",
       "                   Associated Gene Name  Transcript Start (bp)  Gene End (bp)  \n",
       "Ensembl Gene ID                                                                \n",
       "ENSMUSG00000012396                Nanog              122707489      122714633  \n",
       "ENSMUSG00000012396                Nanog              122707565      122714633  \n",
       "ENSMUSG00000012396                Nanog              122707568      122714633  "
      ]
     },
     "execution_count": 16,
     "metadata": {},
     "output_type": "execute_result"
    }
   ],
   "source": [
    "TSS.loc['ENSMUSG00000012396']"
   ]
  },
  {
   "cell_type": "markdown",
   "metadata": {},
   "source": [
    "We can see that there are potentially multiple TSS sites per gene! It's kind of hard to visualise them like this so let's look at the differences in basepairs between the start sites:"
   ]
  },
  {
   "cell_type": "code",
   "execution_count": 17,
   "metadata": {},
   "outputs": [
    {
     "data": {
      "text/plain": [
       "array([76,  3])"
      ]
     },
     "execution_count": 17,
     "metadata": {},
     "output_type": "execute_result"
    }
   ],
   "source": [
    "np.diff(TSS.loc['ENSMUSG00000012396','Transcript Start (bp)'].values)"
   ]
  },
  {
   "cell_type": "markdown",
   "metadata": {},
   "source": [
    "In the case of Nanog, the TSS sites are so close that it seems entirely feasible these TSS sites share the same promoter region. However, this may not be the case for all genes. Let's take a look at the distribution of TSS differences across genes with mutliple TSS:"
   ]
  },
  {
   "cell_type": "code",
   "execution_count": 18,
   "metadata": {},
   "outputs": [],
   "source": [
    "import matplotlib.pyplot as plt\n",
    "diffs = np.empty((1,0))\n",
    "tot = 0\n",
    "for ID in list(set(TSS.index.values)):\n",
    "    if tot == 999:\n",
    "        break\n",
    "    try:\n",
    "        vals = TSS.loc[ID,'Transcript Start (bp)'].values\n",
    "        diffs = np.append(diffs, np.diff(vals))\n",
    "        tot += 1\n",
    "    except:\n",
    "        #Only one TSS site\n",
    "        continue"
   ]
  },
  {
   "cell_type": "code",
   "execution_count": 19,
   "metadata": {},
   "outputs": [
    {
     "data": {
      "text/plain": [
       "Text(0.5, 1.0, 'Genomic distance between TSS sites\\nfor 1000 genes with multiple TSS sites')"
      ]
     },
     "execution_count": 19,
     "metadata": {},
     "output_type": "execute_result"
    },
    {
     "data": {
      "image/png": "[encoded data removed]",
      "text/plain": [
       "<Figure size 720x720 with 1 Axes>"
      ]
     },
     "metadata": {
      "needs_background": "light"
     },
     "output_type": "display_data"
    }
   ],
   "source": [
    "fig = plt.figure(figsize = (10,10))\n",
    "hist = plt.hist(np.log10(diffs[diffs>0]))\n",
    "plt.xlabel(\"log10 of genomic distance\", size = 20)\n",
    "plt.ylabel(\"Frequency\", size = 20)\n",
    "plt.tick_params(labelsize = 15)\n",
    "plt.title(\"Genomic distance between TSS sites\\nfor {} genes with multiple TSS sites\".format(tot+1), size = 20)"
   ]
  },
  {
   "cell_type": "markdown",
   "metadata": {},
   "source": [
    "It looks like some TSS sites can be $\\textbf{very}$ far away from each other! To simplify things let's just take the top hit for each ensembl ID (Given the way that gene information is downloaded from biomart this will correspond to the transcript {gene_name}_001:"
   ]
  },
  {
   "cell_type": "code",
   "execution_count": 20,
   "metadata": {},
   "outputs": [],
   "source": [
    "class Gene(F.Feature):\n",
    "    def __init__(self,\n",
    "                 fid,\n",
    "                 genebody,\n",
    "                 chromosome,\n",
    "                 strand,\n",
    "                 promoter,\n",
    "                 attrs = None,\n",
    "                 parents = None,\n",
    "                 children = None):\n",
    "        super(Gene,self).__init__('gene',\n",
    "                                  fid,\n",
    "                                  attrs = attrs,\n",
    "                                  parents= parents,\n",
    "                                  children = children)\n",
    "        self.attrs['strand'] = strand\n",
    "        self.attrs['region'] = genebody\n",
    "        self.attrs['chromosome'] = chromosome\n",
    "        self.attrs['promoter'] = promoter"
   ]
  },
  {
   "cell_type": "markdown",
   "metadata": {},
   "source": [
    "Now that we've defined our class with some features we might be interested in, let's create a list of gene features which we'll use to link with our TADs:"
   ]
  },
  {
   "cell_type": "code",
   "execution_count": 21,
   "metadata": {},
   "outputs": [],
   "source": [
    "def make_gene_and_prom_obs(ID):\n",
    "    '''\n",
    "    Function to construct a Gene object from our TSS table given some ensembl ID\n",
    "    '''\n",
    "    gene = TSS.loc[ID]\n",
    "    \n",
    "    #If there is more than one transcript we want to pick the top one!\n",
    "    if len(gene.values.shape)>1:\n",
    "        start = gene['Gene Start (bp)'].values[0]\n",
    "        end = gene['Gene End (bp)'].values[0]\n",
    "        strand = gene['Strand'].values[0]\n",
    "        mychrom = gene['Chromosome Name'].values[0]\n",
    "        name = gene['Associated Gene Name'].values[0]\n",
    "    else:\n",
    "        start = gene['Gene Start (bp)']\n",
    "        end = gene['Gene End (bp)']\n",
    "        strand = gene['Strand']\n",
    "        mychrom = gene['Chromosome Name']\n",
    "        name = gene['Associated Gene Name']\n",
    "\n",
    "    \n",
    "    #Create our genebody region\n",
    "    genebody = [start,end]\n",
    "    #Making the assumption that the promoter region will be somewhere within 2kb\n",
    "    #of the TSS (upstream or downstream depends on the strand information)\n",
    "    if strand == 1:\n",
    "        myprom = [start - int(2e3), start]\n",
    "    else:\n",
    "        myprom = [end, end + (2e3)]\n",
    "\n",
    "    #Instantiate a new gene object\n",
    "    mygene = Gene(ID,\n",
    "                  genebody,\n",
    "                  mychrom,\n",
    "                  strand,\n",
    "                  promoter = myprom,\n",
    "                  attrs = {'name': name})\n",
    "                  \n",
    "    return mychrom, mygene\n",
    "\n",
    "'''\n",
    "Using some multiprocessing here to whizz through all the ensembl IDs\n",
    "All this is really doing is working in multiple threads to create a\n",
    "gene object for each gene and store the result in a dictionary \n",
    "with chromosomes as keys\n",
    "'''\n",
    "chroms = [str(i+1) for i in np.arange(19)]+['X'] \n",
    "genes = {chrom: [] for chrom in chroms}\n",
    "myIDs = list(set(TSS.index.values))\n",
    "\n",
    "from multiprocessing import Pool\n",
    "p = Pool()\n",
    "temp_outputs = p.imap(make_gene_and_prom_obs, (ID for ID in myIDs))\n",
    "for temp_output in temp_outputs: \n",
    "    genes[temp_output[0]].append(temp_output[1])"
   ]
  },
  {
   "cell_type": "markdown",
   "metadata": {},
   "source": [
    "We can now access gene information by accessing the dictionary of gene objects:"
   ]
  },
  {
   "cell_type": "code",
   "execution_count": 22,
   "metadata": {},
   "outputs": [
    {
     "name": "stdout",
     "output_type": "stream",
     "text": [
      "ENSMUSG00000026546\n",
      "\n",
      "\n",
      "[172521044, 172545870]\n",
      "\n",
      "\n",
      "[172519044, 172521044]\n"
     ]
    }
   ],
   "source": [
    "print(genes['1'][10].id)\n",
    "print(\"\\n\")\n",
    "print(genes['1'][10].attrs['region'])\n",
    "print(\"\\n\")\n",
    "print(genes['1'][10].attrs['promoter'])"
   ]
  },
  {
   "cell_type": "markdown",
   "metadata": {},
   "source": [
    "## Naive mESC TADs"
   ]
  },
  {
   "cell_type": "code",
   "execution_count": 23,
   "metadata": {},
   "outputs": [
    {
     "data": {
      "text/html": [
       "<div>\n",
       "<style scoped>\n",
       "    .dataframe tbody tr th:only-of-type {\n",
       "        vertical-align: middle;\n",
       "    }\n",
       "\n",
       "    .dataframe tbody tr th {\n",
       "        vertical-align: top;\n",
       "    }\n",
       "\n",
       "    .dataframe thead th {\n",
       "        text-align: right;\n",
       "    }\n",
       "</style>\n",
       "<table border=\"1\" class=\"dataframe\">\n",
       "  <thead>\n",
       "    <tr style=\"text-align: right;\">\n",
       "      <th></th>\n",
       "      <th>chrom</th>\n",
       "      <th>start</th>\n",
       "      <th>end</th>\n",
       "      <th>Compartment</th>\n",
       "    </tr>\n",
       "  </thead>\n",
       "  <tbody>\n",
       "    <tr>\n",
       "      <th>0</th>\n",
       "      <td>chr1</td>\n",
       "      <td>0</td>\n",
       "      <td>4328000</td>\n",
       "      <td>B</td>\n",
       "    </tr>\n",
       "    <tr>\n",
       "      <th>1</th>\n",
       "      <td>chr1</td>\n",
       "      <td>4461000</td>\n",
       "      <td>4761000</td>\n",
       "      <td>A</td>\n",
       "    </tr>\n",
       "    <tr>\n",
       "      <th>2</th>\n",
       "      <td>chr1</td>\n",
       "      <td>4782000</td>\n",
       "      <td>5072000</td>\n",
       "      <td>A</td>\n",
       "    </tr>\n",
       "    <tr>\n",
       "      <th>3</th>\n",
       "      <td>chr1</td>\n",
       "      <td>5089000</td>\n",
       "      <td>6980000</td>\n",
       "      <td>B</td>\n",
       "    </tr>\n",
       "    <tr>\n",
       "      <th>4</th>\n",
       "      <td>chr1</td>\n",
       "      <td>7003000</td>\n",
       "      <td>9437000</td>\n",
       "      <td>B</td>\n",
       "    </tr>\n",
       "    <tr>\n",
       "      <th>...</th>\n",
       "      <td>...</td>\n",
       "      <td>...</td>\n",
       "      <td>...</td>\n",
       "      <td>...</td>\n",
       "    </tr>\n",
       "    <tr>\n",
       "      <th>2707</th>\n",
       "      <td>chrY</td>\n",
       "      <td>5300000</td>\n",
       "      <td>5426000</td>\n",
       "      <td>B</td>\n",
       "    </tr>\n",
       "    <tr>\n",
       "      <th>2708</th>\n",
       "      <td>chrY</td>\n",
       "      <td>5432000</td>\n",
       "      <td>6658000</td>\n",
       "      <td>B</td>\n",
       "    </tr>\n",
       "    <tr>\n",
       "      <th>2709</th>\n",
       "      <td>chrY</td>\n",
       "      <td>6665000</td>\n",
       "      <td>6751000</td>\n",
       "      <td>B</td>\n",
       "    </tr>\n",
       "    <tr>\n",
       "      <th>2710</th>\n",
       "      <td>chrY</td>\n",
       "      <td>6792000</td>\n",
       "      <td>9788000</td>\n",
       "      <td>B</td>\n",
       "    </tr>\n",
       "    <tr>\n",
       "      <th>2711</th>\n",
       "      <td>chrY</td>\n",
       "      <td>9905000</td>\n",
       "      <td>91744698</td>\n",
       "      <td>B</td>\n",
       "    </tr>\n",
       "  </tbody>\n",
       "</table>\n",
       "<p>2712 rows × 4 columns</p>\n",
       "</div>"
      ],
      "text/plain": [
       "     chrom    start       end Compartment\n",
       "0     chr1        0   4328000           B\n",
       "1     chr1  4461000   4761000           A\n",
       "2     chr1  4782000   5072000           A\n",
       "3     chr1  5089000   6980000           B\n",
       "4     chr1  7003000   9437000           B\n",
       "...    ...      ...       ...         ...\n",
       "2707  chrY  5300000   5426000           B\n",
       "2708  chrY  5432000   6658000           B\n",
       "2709  chrY  6665000   6751000           B\n",
       "2710  chrY  6792000   9788000           B\n",
       "2711  chrY  9905000  91744698           B\n",
       "\n",
       "[2712 rows x 4 columns]"
      ]
     },
     "execution_count": 23,
     "metadata": {},
     "output_type": "execute_result"
    }
   ],
   "source": [
    "TADs = pd.read_csv(\"tutorial_data/TAD_boundaries_mESC.csv\",sep = \",\")\n",
    "TADs"
   ]
  },
  {
   "cell_type": "markdown",
   "metadata": {},
   "source": [
    "Let's go ahead and make a TAD class to capture this information:"
   ]
  },
  {
   "cell_type": "code",
   "execution_count": 24,
   "metadata": {},
   "outputs": [],
   "source": [
    "class TAD(F.Feature_single_condition):\n",
    "    '''\n",
    "    Base class to represent a TAD\n",
    "    '''\n",
    "    def __init__(self,\n",
    "                 fid,\n",
    "                 condition,\n",
    "                 region,\n",
    "                 chromosome,\n",
    "                 attrs = None,\n",
    "                 parents = None,\n",
    "                 children = None):\n",
    "                         \n",
    "        super(TAD,self).__init__('TAD',\n",
    "                                 fid,\n",
    "                                 condition,\n",
    "                                 attrs = attrs,\n",
    "                                 parents= parents,\n",
    "                                 children = children)\n",
    "        self.attrs['region'] = region\n",
    "        self.attrs['chromosome'] = chromosome                      "
   ]
  },
  {
   "cell_type": "markdown",
   "metadata": {},
   "source": [
    "We can see that we've used:\n",
    "\n",
    "- A subclass of Feature_single_condition since TADs are condtion specific\n",
    "- To specify each TAD all we need is a region and a chromosome so we use those as attributes"
   ]
  },
  {
   "cell_type": "code",
   "execution_count": 25,
   "metadata": {},
   "outputs": [],
   "source": [
    "TAD_dict = {chrom: [] for chrom in chroms}\n",
    "for idx in TADs.index.values:\n",
    "    myTAD = TADs.loc[idx]\n",
    "    mychrom = myTAD['chrom'][3:]\n",
    "    if mychrom == 'Y':\n",
    "        continue\n",
    "    myregion = [myTAD['start'], myTAD['end']]\n",
    "    \n",
    "    myID = \"TAD_{}\".format(idx)\n",
    "    \n",
    "    TAD_dict[mychrom].append(TAD(myID,\n",
    "                                 'naive',\n",
    "                                 myregion,\n",
    "                                 mychrom\n",
    "                                )\n",
    "                            )"
   ]
  },
  {
   "cell_type": "markdown",
   "metadata": {},
   "source": [
    "We can now access TAD information as TAD objects:"
   ]
  },
  {
   "cell_type": "code",
   "execution_count": 26,
   "metadata": {},
   "outputs": [
    {
     "name": "stdout",
     "output_type": "stream",
     "text": [
      "TAD_10\n",
      "\n",
      "\n",
      "[15026000, 17097000]\n",
      "\n",
      "\n",
      "1\n"
     ]
    }
   ],
   "source": [
    "print(TAD_dict['1'][10].id)\n",
    "print(\"\\n\")\n",
    "print(TAD_dict['1'][10].attrs['region'])\n",
    "print(\"\\n\")\n",
    "print(TAD_dict['1'][10].attrs['chromosome'])"
   ]
  },
  {
   "cell_type": "markdown",
   "metadata": {},
   "source": [
    "## Linking TADs and Genes\n",
    "\n",
    "We only really gain anything from this if we can efficiently link together different sets of features. 'Linking' could be applied very broadly and could be used to add children features of type1 to parent features type2 where feature A of type 1 is a child of feature B of type 2 if:\n",
    "\n",
    "- their genomic regions overlap\n",
    "- they have similar binding of a protein\n",
    "- Feature A is regulated by Feature 2\n",
    "\n",
    "But how do we go about linking features? The Feature module contains a function link_features described here:\n",
    "\n",
    "    '''\n",
    "    Given some list of regions associated with each parent and child, this returns an (N,2) shape\n",
    "    array detailing the links between parents and children. \n",
    "    Arguments:\n",
    "    parent_regions: A list of (M,2) shape arrays (one per parent) which need not be the same length\n",
    "                    but which detail the regions associated with each parent.\n",
    "    child_regions: A list of (M,2) shape arrays (one per child) which need not be the same length\n",
    "                   but which detail the regions associated with each child.\n",
    "    \n",
    "    Returns:\n",
    "    Links: (N,2) shape array (essentially a COO format sparse matrix) where each row details \n",
    "           a link between a parent and a child. \n",
    "    '''\n",
    "    \n",
    "In this tutorial we'll just look at associating parent features with child features using genomic overlap. Given this, each gene and TAD will have to be associated with a set of regions. We provide the function with a list of these regions for the parent sets and child sets and the function tells us which members of the parent and child sets overlap.\n",
    "\n",
    "### TAD overlap with gene bodies\n",
    "\n",
    "#### Chromosome 1"
   ]
  },
  {
   "cell_type": "code",
   "execution_count": 27,
   "metadata": {},
   "outputs": [],
   "source": [
    "gene_regions = [np.array(item.attrs['region']).reshape(1,2).astype('int32') for item in genes['1']]\n",
    "TAD_regions = [np.array(item.attrs['region']).reshape(1,2).astype('int32') for item in TAD_dict['1']]"
   ]
  },
  {
   "cell_type": "markdown",
   "metadata": {},
   "source": [
    "We've therefore associated each gene and TAD with a region encoded as a shape (1,2) integer array. If we now call link_features then this will return an array where each row details a TAD (parent) - gene (child) pair: "
   ]
  },
  {
   "cell_type": "code",
   "execution_count": 31,
   "metadata": {},
   "outputs": [
    {
     "name": "stdout",
     "output_type": "stream",
     "text": [
      "[[   0  766]\n",
      " [   0  854]\n",
      " [   0 1586]\n",
      " ...\n",
      " [ 195 1928]\n",
      " [ 195 1989]\n",
      " [ 195 1996]]\n"
     ]
    }
   ],
   "source": [
    "links = F.link_features(TAD_regions,\n",
    "                        gene_regions)\n",
    "print(links)"
   ]
  },
  {
   "cell_type": "markdown",
   "metadata": {},
   "source": [
    "Note that this is fairly quick as long as each parent and child is associated with a single region. However, it is possible to associate a Feature with multiple regions - link features will still work in this case, it will just be slower! Anyway, let's go ahead and add the gene children to the parent TADs:"
   ]
  },
  {
   "cell_type": "code",
   "execution_count": 33,
   "metadata": {},
   "outputs": [],
   "source": [
    "for link in links:\n",
    "    TAD_dict['1'][link[0]].add_child(genes['1'][link[1]], 'genebody')\n",
    "    genes['1'][link[1]].add_parent(TAD_dict['1'][link[0]], 'genebody_TAD')"
   ]
  },
  {
   "cell_type": "markdown",
   "metadata": {},
   "source": [
    "Now we can identify for each TAD, the genes which are overlapped with that TAD:"
   ]
  },
  {
   "cell_type": "code",
   "execution_count": 35,
   "metadata": {},
   "outputs": [
    {
     "name": "stdout",
     "output_type": "stream",
     "text": [
      "['ENSMUSG00000092083', 'ENSMUSG00000067795', 'ENSMUSG00000025921', 'ENSMUSG00000042686', 'ENSMUSG00000097744', 'ENSMUSG00000032719', 'ENSMUSG00000043716', 'ENSMUSG00000025939', 'ENSMUSG00000025920', 'ENSMUSG00000089982', 'ENSMUSG00000090498', 'ENSMUSG00000025779', 'ENSMUSG00000073737', 'ENSMUSG00000077377', 'ENSMUSG00000025940', 'ENSMUSG00000079658', 'ENSMUSG00000091020', 'ENSMUSG00000088829', 'ENSMUSG00000025925', 'ENSMUSG00000088943']\n"
     ]
    }
   ],
   "source": [
    "print([item.id for item in TAD_dict['1'][10].children['genebody']])"
   ]
  },
  {
   "cell_type": "markdown",
   "metadata": {},
   "source": [
    "Note that above, when we have called add_child and add_parent we have specified that these parent-child links are associated wiht the genebody. We can do a similar analysis for gene promoter regions:"
   ]
  },
  {
   "cell_type": "code",
   "execution_count": 36,
   "metadata": {},
   "outputs": [],
   "source": [
    "gene_regions = [np.array(item.attrs['promoter']).reshape(1,2).astype('int32') for item in genes['1']]\n",
    "TAD_regions = [np.array(item.attrs['region']).reshape(1,2).astype('int32') for item in TAD_dict['1']]\n",
    "\n",
    "links = F.link_features(TAD_regions,\n",
    "                        gene_regions)\n",
    "\n",
    "for link in links:\n",
    "    TAD_dict['1'][link[0]].add_child(genes['1'][link[1]], 'promoter')\n",
    "    genes['1'][link[1]].add_parent(TAD_dict['1'][link[0]], 'promoter_TAD')"
   ]
  },
  {
   "cell_type": "markdown",
   "metadata": {},
   "source": [
    "This is very useful! Let's now take a look at the distribution of the number of promoters in each TAD, scaled by the length of that TAD:"
   ]
  },
  {
   "cell_type": "code",
   "execution_count": 44,
   "metadata": {},
   "outputs": [
    {
     "data": {
      "text/plain": [
       "Text(0.5, 1.0, 'Promoter density per TAD')"
      ]
     },
     "execution_count": 44,
     "metadata": {},
     "output_type": "execute_result"
    },
    {
     "data": {
      "image/png": "[encoded data removed]",
      "text/plain": [
       "<Figure size 720x720 with 1 Axes>"
      ]
     },
     "metadata": {
      "needs_background": "light"
     },
     "output_type": "display_data"
    }
   ],
   "source": [
    "promdensity_chr1 = [len(item.children['promoter'])/(item.attrs['region'][1] - item.attrs['region'][0]) if 'promoter' in item.children else 0 for item in TAD_dict['1']]\n",
    "\n",
    "fig = plt.figure(figsize = (10,10))\n",
    "hist = plt.hist(promdensity_chr1)\n",
    "plt.xlabel(\"Promoter Density (bp^-1)\", size = 20)\n",
    "plt.ylabel(\"Frequency\", size = 20)\n",
    "plt.tick_params(labelsize = 12)\n",
    "plt.title(\"Promoter density per TAD\".format(tot+1), size = 20)"
   ]
  },
  {
   "cell_type": "markdown",
   "metadata": {},
   "source": [
    "## Combining with the Datatrack module\n",
    "This is all very nice but really what we want is simple ways to manipulate features alongside Datatracks! Let's do that here. Suppose we wanted to know whether Nanog binding to promoters shows significant correlation for genes within the same TAD. Let's go ahead and investigate this now.\n",
    "\n",
    "First things first, we need to load our Nanog datatrack:"
   ]
  },
  {
   "cell_type": "code",
   "execution_count": 46,
   "metadata": {},
   "outputs": [],
   "source": [
    "nanog_file = \"tutorial_data/GSEXXXXXHendrich20161026_Nanog_ESC_peaks.npz\"\n",
    "nanog = Dt.DataTrack_rvp(\"Nanog\").from_npz(nanog_file)"
   ]
  },
  {
   "cell_type": "markdown",
   "metadata": {},
   "source": [
    "Let's now link TADs and promoters for all genes:"
   ]
  },
  {
   "cell_type": "code",
   "execution_count": 52,
   "metadata": {},
   "outputs": [],
   "source": [
    "#Clear out our previous children and parents\n",
    "for chrom in chroms:\n",
    "    for TAD in TAD_dict[chrom]:\n",
    "        if 'promoter' in TAD.children:\n",
    "            del(TAD.children['promoter'])\n",
    "    for gene in genes[chrom]:\n",
    "        if 'promoter_TAD' in gene.parents:\n",
    "            del(gene.parents['promoter_TAD'])\n",
    "    \n",
    "for chrom in chroms:\n",
    "    prom_regions = [np.array(item.attrs['promoter']).reshape(1,2).astype('int32') for item in genes[chrom]]\n",
    "    TAD_regions = [np.array(item.attrs['region']).reshape(1,2).astype('int32') for item in TAD_dict[chrom]]\n",
    "\n",
    "    links = F.link_features(TAD_regions,\n",
    "                            prom_regions)\n",
    "\n",
    "    for link in links:\n",
    "        TAD_dict[chrom][link[0]].add_child(genes[chrom][link[1]], 'promoter')\n",
    "        genes[chrom][link[1]].add_parent(TAD_dict[chrom][link[0]], 'promoter_TAD')"
   ]
  },
  {
   "cell_type": "markdown",
   "metadata": {},
   "source": [
    "Now let's assign some Nanog attributes to our promoters:"
   ]
  },
  {
   "cell_type": "code",
   "execution_count": 53,
   "metadata": {},
   "outputs": [],
   "source": [
    "for chrom in chroms:\n",
    "    gene_regions = [np.array(item.attrs['promoter']).reshape(1,2).astype('int32') for item in genes[chrom]]\n",
    "    max_nanog = nanog.stats(chrom, gene_regions, stats_type = 'max')\n",
    "    nanog_coverage = nanog.stats(chrom,gene_regions, stats_type = 'coverage')\n",
    "    \n",
    "    for idx in np.arange(len(max_nanog)):\n",
    "        genes[chrom][idx].attrs['promoter_maximum_nanog_signal'] = max_nanog[idx]\n",
    "        genes[chrom][idx].attrs['promoter_nanog_coverage'] = nanog_coverage[idx]"
   ]
  },
  {
   "cell_type": "markdown",
   "metadata": {},
   "source": [
    "Now let's look at the distributions of within-promoter maximum Nanog signal (WP-MNS) in each TAD. In particular lets look at the mean WP-MNS versus the standard deivation in WP-MNS. If binding of Nanog to one promoter in a TAD raised the probability of Nanog binding to another promoter in the TAD we would expect the standard deviation in Nanog binding to stay relatively constant when compared with the mean. Let's see if this is what we see:\n",
    "\n",
    "### Maximum nanog promoter signal for genes in same TAD"
   ]
  },
  {
   "cell_type": "code",
   "execution_count": 85,
   "metadata": {},
   "outputs": [
    {
     "data": {
      "text/plain": [
       "<matplotlib.legend.Legend at 0x7ffaf0ecba10>"
      ]
     },
     "execution_count": 85,
     "metadata": {},
     "output_type": "execute_result"
    },
    {
     "data": {
      "image/png": "[encoded data removed]",
      "text/plain": [
       "<Figure size 720x720 with 1 Axes>"
      ]
     },
     "metadata": {
      "needs_background": "light"
     },
     "output_type": "display_data"
    }
   ],
   "source": [
    "means = []\n",
    "std = []\n",
    "nums = []\n",
    "for chrom in chroms:\n",
    "    for TAD in TAD_dict[chrom]:\n",
    "        if 'promoter' in TAD.children:\n",
    "            proms = TAD.children['promoter']\n",
    "            nums.append(len(proms))\n",
    "            means.append(np.mean([item.attrs['promoter_maximum_nanog_signal'] for item in proms]))\n",
    "            std.append(np.std([[item.attrs['promoter_maximum_nanog_signal']] for item in proms]))\n",
    "\n",
    "fig = plt.figure(figsize = (10,10))\n",
    "plt.scatter(means, std, c = nums, cmap = plt.cm.Blues, vmin = -10, vmax = 50, label = \"TAD\\nColor = Number of Promoters\")\n",
    "plt.xscale('symlog')\n",
    "plt.yscale('symlog')\n",
    "plt.ylim([0,5e3])\n",
    "plt.tick_params(labelsize = 15)\n",
    "plt.xlabel(\"Cross-promoter mean of\\nwithin-promoter maximum Nanog signal\", size = 20)\n",
    "plt.ylabel(\"Cross-promoter standard-deviation of\\nwithin-promoter maximum Nanog signal\", size = 20)\n",
    "plt.legend(prop = {'size':15})"
   ]
  },
  {
   "cell_type": "markdown",
   "metadata": {},
   "source": [
    "It looks as if we have a noisy linear relationship between the mean and the variance of within-promoter maximum Nanog signal (WP-MN).\n",
    "\n",
    "It also seems like for a higher mean WP-MN is associated with lower numbers of promoters. This could just be down to the specificity of Nanog binding - if Nanog only binds 5% of promoters then for a TAD with lots of promoters, the within-TAD mean WP-MN will be dragged down my most promoters having no Nanog binding. Therefore we don't see this trend in the within-TAD standard deivation of WP-MN.\n",
    "\n",
    "It looks as if Nanog doesn't show huge amount of TAD specificity! Let's double check this by looking at a histogram of mean WP-MNS within each TAD:"
   ]
  },
  {
   "cell_type": "code",
   "execution_count": 99,
   "metadata": {},
   "outputs": [
    {
     "data": {
      "text/plain": [
       "Text(0, 0.5, 'Frequency')"
      ]
     },
     "execution_count": 99,
     "metadata": {},
     "output_type": "execute_result"
    },
    {
     "data": {
      "image/png": "[encoded data removed]",
      "text/plain": [
       "<Figure size 720x720 with 1 Axes>"
      ]
     },
     "metadata": {
      "needs_background": "light"
     },
     "output_type": "display_data"
    }
   ],
   "source": [
    "fig = plt.figure(figsize = (10,10))\n",
    "x = np.array(means)\n",
    "hist = plt.hist(np.log10(x[x>0]), bins = 'auto')\n",
    "plt.tick_params(labelsize = 15)\n",
    "plt.xlabel(\"Per-TAD Mean WP-MNS\", size = 20)\n",
    "plt.ylabel(\"Frequency\", size = 20)"
   ]
  },
  {
   "cell_type": "code",
   "execution_count": null,
   "metadata": {},
   "outputs": [],
   "source": []
  }
 ],
 "metadata": {
  "kernelspec": {
   "display_name": "Python 3",
   "language": "python",
   "name": "python3"
  },
  "language_info": {
   "codemirror_mode": {
    "name": "ipython",
    "version": 3
   },
   "file_extension": ".py",
   "mimetype": "text/x-python",
   "name": "python",
   "nbconvert_exporter": "python",
   "pygments_lexer": "ipython3",
   "version": "3.7.6"
  }
 },
 "nbformat": 4,
 "nbformat_minor": 4
}
